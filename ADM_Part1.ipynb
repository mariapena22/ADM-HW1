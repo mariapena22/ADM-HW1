{
 "cells": [
  {
   "cell_type": "markdown",
   "id": "6d924190",
   "metadata": {},
   "source": [
    "## 1. Say \"Hello, World!\" With Python"
   ]
  },
  {
   "cell_type": "code",
   "execution_count": 1,
   "id": "dae32f3a",
   "metadata": {},
   "outputs": [
    {
     "name": "stdout",
     "output_type": "stream",
     "text": [
      "Hello, World!\n"
     ]
    }
   ],
   "source": [
    "str = \"Hello, World!\"\n",
    "print(str)"
   ]
  },
  {
   "cell_type": "markdown",
   "id": "9af4a5f5",
   "metadata": {},
   "source": [
    "## 2. Python If-Else"
   ]
  },
  {
   "cell_type": "code",
   "execution_count": 2,
   "id": "df922a52",
   "metadata": {},
   "outputs": [
    {
     "name": "stdout",
     "output_type": "stream",
     "text": [
      "Weird\n"
     ]
    }
   ],
   "source": [
    "n = int(input().strip())\n",
    "if n%2==1:\n",
    "    print(\"Weird\")\n",
    "elif n%2==0 and 2<=n<=5:\n",
    "    print(\"Not Weird\")\n",
    "elif n%2==0 and 6<=n<=20:\n",
    "    print(\"Weird\")\n",
    "else:\n",
    "    print(\"Not Weird\")"
   ]
  },
  {
   "cell_type": "markdown",
   "id": "13b47ffd",
   "metadata": {},
   "source": [
    "## 3. Arithmetic Operators"
   ]
  },
  {
   "cell_type": "code",
   "execution_count": 3,
   "id": "95590cc2",
   "metadata": {},
   "outputs": [
    {
     "ename": "ValueError",
     "evalue": "invalid literal for int() with base 10: 'BANANA FRITA 10'",
     "output_type": "error",
     "traceback": [
      "\u001b[0;31m---------------------------------------------------------------------------\u001b[0m",
      "\u001b[0;31mValueError\u001b[0m                                Traceback (most recent call last)",
      "Cell \u001b[0;32mIn [3], line 2\u001b[0m\n\u001b[1;32m      1\u001b[0m \u001b[38;5;28;01mif\u001b[39;00m \u001b[38;5;18m__name__\u001b[39m \u001b[38;5;241m==\u001b[39m \u001b[38;5;124m'\u001b[39m\u001b[38;5;124m__main__\u001b[39m\u001b[38;5;124m'\u001b[39m:\n\u001b[0;32m----> 2\u001b[0m     a \u001b[38;5;241m=\u001b[39m \u001b[38;5;28mint\u001b[39m(\u001b[38;5;28minput\u001b[39m())\n\u001b[1;32m      3\u001b[0m     b \u001b[38;5;241m=\u001b[39m \u001b[38;5;28mint\u001b[39m(\u001b[38;5;28minput\u001b[39m())\n\u001b[1;32m      4\u001b[0m     \u001b[38;5;28mprint\u001b[39m(a\u001b[38;5;241m+\u001b[39mb)\n",
      "\u001b[0;31mValueError\u001b[0m: invalid literal for int() with base 10: 'BANANA FRITA 10'"
     ]
    }
   ],
   "source": [
    "if __name__ == '__main__':\n",
    "    a = int(input())\n",
    "    b = int(input())\n",
    "    print(a+b)\n",
    "    print(a-b)\n",
    "    print(a*b)"
   ]
  },
  {
   "cell_type": "markdown",
   "id": "91428d28",
   "metadata": {},
   "source": [
    "## 4. Python: Division"
   ]
  },
  {
   "cell_type": "code",
   "execution_count": null,
   "id": "0d5ce7f2",
   "metadata": {},
   "outputs": [
    {
     "name": "stdout",
     "output_type": "stream",
     "text": [
      "3\n",
      "5\n",
      "0\n",
      "0.6\n"
     ]
    }
   ],
   "source": [
    "if __name__ == '__main__':\n",
    "    a = int(input())\n",
    "    b = int(input())\n",
    "    print(a//b)\n",
    "    print(a/b)"
   ]
  },
  {
   "cell_type": "markdown",
   "id": "61111693",
   "metadata": {},
   "source": [
    "## 5. Loops"
   ]
  },
  {
   "cell_type": "code",
   "execution_count": null,
   "id": "ad7464ed",
   "metadata": {},
   "outputs": [
    {
     "name": "stdout",
     "output_type": "stream",
     "text": [
      "5\n",
      "0\n",
      "1\n",
      "4\n",
      "9\n",
      "16\n"
     ]
    }
   ],
   "source": [
    "if __name__ == '__main__':\n",
    "    n = int(input())\n",
    "    l = range(0,n)\n",
    "    for i in l:\n",
    "        print(i**2)"
   ]
  },
  {
   "cell_type": "markdown",
   "id": "7bc94d79",
   "metadata": {},
   "source": [
    "## 6. Write a function"
   ]
  },
  {
   "cell_type": "code",
   "execution_count": null,
   "id": "e671a5b4",
   "metadata": {},
   "outputs": [
    {
     "name": "stdout",
     "output_type": "stream",
     "text": [
      "1992\n",
      "True\n"
     ]
    }
   ],
   "source": [
    "def is_leap(year):\n",
    "    leap = False\n",
    "    if(year%4==0):  \n",
    "        if(year%100==0):    \n",
    "            if(year%400==0):\n",
    "                leap = True\n",
    "            else:\n",
    "                leap = False\n",
    "        else:\n",
    "            leap = True\n",
    "    else:\n",
    "        leap = False           \n",
    "    return leap              \n",
    "year = int(input())\n",
    "print(is_leap(year))"
   ]
  },
  {
   "cell_type": "markdown",
   "id": "1e678d52",
   "metadata": {},
   "source": [
    "## 7. Print Function"
   ]
  },
  {
   "cell_type": "code",
   "execution_count": null,
   "id": "8ce68a99",
   "metadata": {},
   "outputs": [
    {
     "name": "stdout",
     "output_type": "stream",
     "text": [
      "5\n",
      "12345"
     ]
    }
   ],
   "source": [
    "if __name__ == '__main__':\n",
    "    n = int(input())\n",
    "    l = range(1,n+1)\n",
    "    for i in l:\n",
    "        print(i,end='')"
   ]
  },
  {
   "cell_type": "markdown",
   "id": "e7dff485",
   "metadata": {},
   "source": [
    "## 8. List Comprehensions"
   ]
  },
  {
   "cell_type": "code",
   "execution_count": null,
   "id": "e73da77f",
   "metadata": {},
   "outputs": [
    {
     "name": "stdout",
     "output_type": "stream",
     "text": [
      "1\n",
      "1\n",
      "2\n",
      "3\n",
      "[[0, 0, 0], [0, 0, 1], [0, 0, 2], [0, 1, 0], [0, 1, 1], [1, 0, 0], [1, 0, 1], [1, 1, 0], [1, 1, 2]]\n"
     ]
    }
   ],
   "source": [
    "if __name__ == '__main__':\n",
    "    x = int(input())\n",
    "    y = int(input())\n",
    "    z = int(input())\n",
    "    n = int(input())\n",
    "\n",
    "l=[[i,j,k] for i in range(0,x+1) for j in range(0,y+1) for k in range(0,z+1) if i+j+k !=n ]\n",
    "print(l)\n"
   ]
  },
  {
   "cell_type": "markdown",
   "id": "f357c43a",
   "metadata": {},
   "source": [
    "## 9. Find the Runner-Up Score!"
   ]
  },
  {
   "cell_type": "code",
   "execution_count": null,
   "id": "00d81411",
   "metadata": {},
   "outputs": [
    {
     "name": "stdout",
     "output_type": "stream",
     "text": [
      "5\n",
      "2 3 6 6 5\n",
      "5\n"
     ]
    }
   ],
   "source": [
    "if __name__ == '__main__':\n",
    "    n = int(input())\n",
    "    arr = map(int, input().split())\n",
    "    l = set(arr)\n",
    "    l_s = sorted(list(l))\n",
    "    print(l_s [-2])"
   ]
  },
  {
   "cell_type": "markdown",
   "id": "35081519",
   "metadata": {},
   "source": [
    "## 10. Nested Lists"
   ]
  },
  {
   "cell_type": "code",
   "execution_count": null,
   "id": "287cdf67",
   "metadata": {},
   "outputs": [
    {
     "name": "stdout",
     "output_type": "stream",
     "text": [
      "4\n",
      "Prashant\n",
      "32\n",
      "Pallavi\n",
      "36\n",
      "Dheeraj\n",
      "39\n",
      "Shivam\n",
      "40\n",
      "[32.0, 36.0, 39.0, 40.0]\n",
      "36.0\n",
      "Pallavi\n"
     ]
    }
   ],
   "source": [
    "l = []\n",
    "s = []\n",
    "\n",
    "if __name__ == '__main__':\n",
    "    for _ in range(int(input())):\n",
    "        name = input()\n",
    "        score = float(input())\n",
    "        l = l + [[name,score]]\n",
    "        s = s + [score]\n",
    "    m = list(sorted(set(s)))\n",
    "    u = m[1]\n",
    "    n = sorted(l)\n",
    "    for i,j in n:\n",
    "        if u==j:\n",
    "            print(i)\n",
    "    "
   ]
  },
  {
   "cell_type": "markdown",
   "id": "da7125b5",
   "metadata": {},
   "source": [
    "## 11. Finding the percentage"
   ]
  },
  {
   "cell_type": "code",
   "execution_count": null,
   "id": "bd4449eb",
   "metadata": {},
   "outputs": [
    {
     "name": "stdout",
     "output_type": "stream",
     "text": [
      "2\n",
      "a 1 2 3\n",
      "b 2 3 4\n",
      "a\n",
      "2.00\n",
      "[2.0, 3.0, 4.0]\n"
     ]
    }
   ],
   "source": [
    "if __name__ == '__main__':\n",
    "    n = int(input())\n",
    "    student_marks = {}\n",
    "    for _ in range(n):\n",
    "        name, *line = input().split()\n",
    "        scores = list(map(float, line))\n",
    "        student_marks[name] = scores\n",
    "    query_name = input()\n",
    "l = (student_marks[query_name])\n",
    "a = len(l)\n",
    "p = sum(l)/a\n",
    "print (\"%.2f\"%p) "
   ]
  },
  {
   "cell_type": "markdown",
   "id": "435d6e0e",
   "metadata": {},
   "source": [
    "## 12. Lists"
   ]
  },
  {
   "cell_type": "code",
   "execution_count": null,
   "id": "a6401c9b",
   "metadata": {},
   "outputs": [
    {
     "name": "stdout",
     "output_type": "stream",
     "text": [
      "2\n",
      "insert 0 1 2\n",
      "remove 1\n"
     ]
    }
   ],
   "source": [
    "if __name__ == '__main__':\n",
    "    N = int(input())\n",
    "    l =[]\n",
    "    for i in range(0,N):\n",
    "        r=input().split()\n",
    "        if r[0] == 'sort':\n",
    "            l.sort()\n",
    "        elif r[0] == 'print':\n",
    "            print(l)\n",
    "        elif r[0] == 'pop':\n",
    "            l.pop()\n",
    "        elif r[0] == 'insert':\n",
    "            l.insert(int(r[1]),int(r[2]))\n",
    "        elif r[0] =='append':\n",
    "            l.append(int(r[1]))\n",
    "        elif r[0] =='remove':\n",
    "            l.remove(int(r[1]))\n",
    "        elif r[0] =='reverse':\n",
    "            l.reverse() "
   ]
  },
  {
   "cell_type": "markdown",
   "id": "d4b301ec",
   "metadata": {},
   "source": [
    "## 13. Tuples"
   ]
  },
  {
   "cell_type": "code",
   "execution_count": null,
   "id": "216ffc13",
   "metadata": {},
   "outputs": [
    {
     "name": "stdout",
     "output_type": "stream",
     "text": [
      "2\n",
      "1 2\n",
      "-3550055125485641917\n"
     ]
    }
   ],
   "source": [
    "n = int(input())\n",
    "integer_list = map(int, input().split())\n",
    "t=tuple(integer_list)\n",
    "h=hash(t)\n",
    "print(h)\n",
    "\n",
    "# Has to run in pyp3 to have the correct ans. Saw it in the discussions section."
   ]
  },
  {
   "cell_type": "markdown",
   "id": "c5286107",
   "metadata": {},
   "source": [
    "## 14. sWAP cASE"
   ]
  },
  {
   "cell_type": "code",
   "execution_count": null,
   "id": "3b26da1f",
   "metadata": {},
   "outputs": [
    {
     "name": "stdout",
     "output_type": "stream",
     "text": [
      "amarillo\n",
      "AMARILLO\n"
     ]
    }
   ],
   "source": [
    "def swap_case(s):\n",
    "    l = ''\n",
    "    for i in s:\n",
    "        if i.isupper() == False:\n",
    "            l = l + i.upper()\n",
    "        else:\n",
    "            l = l + i.lower()\n",
    "    return l\n",
    "\n",
    "if __name__ == '__main__':\n",
    "    s = input()\n",
    "    result = swap_case(s)\n",
    "    print(result)"
   ]
  },
  {
   "cell_type": "markdown",
   "id": "dddf22a6",
   "metadata": {},
   "source": [
    "## 15. String Split and Join"
   ]
  },
  {
   "cell_type": "code",
   "execution_count": null,
   "id": "d86d732f",
   "metadata": {},
   "outputs": [
    {
     "name": "stdout",
     "output_type": "stream",
     "text": [
      "this is a string\n",
      "['this', 'is', 'a', 'string']\n",
      "this-is-a-string\n"
     ]
    }
   ],
   "source": [
    "def split_and_join(line):\n",
    "    l = line.split()\n",
    "    l = '-'.join(l)\n",
    "    return l\n",
    "\n",
    "if __name__ == '__main__':\n",
    "    line = input()\n",
    "    result = split_and_join(line)\n",
    "    print(result)"
   ]
  },
  {
   "cell_type": "markdown",
   "id": "7d336d93",
   "metadata": {},
   "source": [
    "## 16. What's Your Name?"
   ]
  },
  {
   "cell_type": "code",
   "execution_count": null,
   "id": "4a634bd2",
   "metadata": {},
   "outputs": [
    {
     "name": "stdout",
     "output_type": "stream",
     "text": [
      "Ross\n",
      "Taylor\n",
      "Hello Ross Taylor! You just delved into python.\n"
     ]
    }
   ],
   "source": [
    "def print_full_name(first, last):\n",
    "    print('Hello '+ first +' '+ last + '! You just delved into python.')\n",
    "\n",
    "if __name__ == '__main__':\n",
    "    first_name = input()\n",
    "    last_name = input()\n",
    "    print_full_name(first_name, last_name)"
   ]
  },
  {
   "cell_type": "markdown",
   "id": "5e744f2d",
   "metadata": {},
   "source": [
    "## 17. Mutations"
   ]
  },
  {
   "cell_type": "code",
   "execution_count": null,
   "id": "54aa48fb",
   "metadata": {},
   "outputs": [
    {
     "name": "stdout",
     "output_type": "stream",
     "text": [
      "abracadabra\n",
      "5 k\n",
      "abrackdabra\n"
     ]
    }
   ],
   "source": [
    "def mutate_string(string, position, character):\n",
    "    l= list(string)\n",
    "    l[position] = character\n",
    "    s =''.join(l)\n",
    "    \n",
    "    return s\n",
    "\n",
    "if __name__ == '__main__':\n",
    "    s = input()\n",
    "    i, c = input().split()\n",
    "    s_new = mutate_string(s, int(i), c)\n",
    "    print(s_new)"
   ]
  },
  {
   "cell_type": "markdown",
   "id": "1f110e86",
   "metadata": {},
   "source": [
    "## 18. Find a string"
   ]
  },
  {
   "cell_type": "code",
   "execution_count": null,
   "id": "13431f4b",
   "metadata": {},
   "outputs": [
    {
     "name": "stdout",
     "output_type": "stream",
     "text": [
      "ABCDCDC\n",
      "CDC\n",
      "2\n"
     ]
    }
   ],
   "source": [
    "def count_substring(string, sub_string):\n",
    "    a = len(string)\n",
    "    b = len(sub_string)\n",
    "    count=0\n",
    "    for i in range(0, a-b+1):\n",
    "        if string[i] == sub_string[0]:\n",
    "            coin=1\n",
    "            for j in range(0, b):\n",
    "                if string[i+j] != sub_string[j]:\n",
    "                    coin = 0\n",
    "                    break\n",
    "            if coin==1:\n",
    "                count = count + 1  \n",
    "    return count\n",
    "\n",
    "if __name__ == '__main__':\n",
    "    string = input().strip()\n",
    "    sub_string = input().strip()\n",
    "    \n",
    "    count = count_substring(string, sub_string)\n",
    "    print(count)\n",
    "#I relied on information found about for in another for to compare the sub_string with the string when the first letter matches."
   ]
  },
  {
   "cell_type": "markdown",
   "id": "c63d7bb9",
   "metadata": {},
   "source": [
    "## 19. String Validators"
   ]
  },
  {
   "cell_type": "code",
   "execution_count": null,
   "id": "1a5715c1",
   "metadata": {},
   "outputs": [
    {
     "name": "stdout",
     "output_type": "stream",
     "text": [
      "qA2\n",
      "True\n",
      "True\n",
      "True\n",
      "True\n",
      "True\n"
     ]
    }
   ],
   "source": [
    "if __name__ == '__main__':\n",
    "    s = input()\n",
    "    #check alph number\n",
    "    n = (l.isalnum() for l in s)\n",
    "    print(any(n))\n",
    "    #check alph\n",
    "    a = (l.isalpha() for l in s)\n",
    "    print(any(a))\n",
    "    #check digits\n",
    "    d = (l.isdigit() for l in s)\n",
    "    print(any(d))\n",
    "    #check lower_c\n",
    "    lo = (l.islower() for l in s)\n",
    "    print(any(lo))\n",
    "    #check upper_c\n",
    "    u = (l.isupper() for l in s)\n",
    "    print(any(u))"
   ]
  },
  {
   "cell_type": "markdown",
   "id": "b31b91df",
   "metadata": {},
   "source": [
    "## 20. Text Alignment"
   ]
  },
  {
   "cell_type": "code",
   "execution_count": null,
   "id": "3ed8fd3e",
   "metadata": {},
   "outputs": [
    {
     "name": "stdout",
     "output_type": "stream",
     "text": [
      "7\n",
      "      H      \n",
      "     HHH     \n",
      "    HHHHH    \n",
      "   HHHHHHH   \n",
      "  HHHHHHHHH  \n",
      " HHHHHHHHHHH \n",
      "HHHHHHHHHHHHH\n",
      "   HHHHHHH                     HHHHHHH                  \n",
      "   HHHHHHH                     HHHHHHH                  \n",
      "   HHHHHHH                     HHHHHHH                  \n",
      "   HHHHHHH                     HHHHHHH                  \n",
      "   HHHHHHH                     HHHHHHH                  \n",
      "   HHHHHHH                     HHHHHHH                  \n",
      "   HHHHHHH                     HHHHHHH                  \n",
      "   HHHHHHH                     HHHHHHH                  \n",
      "   HHHHHHHHHHHHHHHHHHHHHHHHHHHHHHHHHHH    \n",
      "   HHHHHHHHHHHHHHHHHHHHHHHHHHHHHHHHHHH    \n",
      "   HHHHHHHHHHHHHHHHHHHHHHHHHHHHHHHHHHH    \n",
      "   HHHHHHHHHHHHHHHHHHHHHHHHHHHHHHHHHHH    \n",
      "   HHHHHHH                     HHHHHHH                  \n",
      "   HHHHHHH                     HHHHHHH                  \n",
      "   HHHHHHH                     HHHHHHH                  \n",
      "   HHHHHHH                     HHHHHHH                  \n",
      "   HHHHHHH                     HHHHHHH                  \n",
      "   HHHHHHH                     HHHHHHH                  \n",
      "   HHHHHHH                     HHHHHHH                  \n",
      "   HHHHHHH                     HHHHHHH                  \n",
      "                            HHHHHHHHHHHHH \n",
      "                             HHHHHHHHHHH  \n",
      "                              HHHHHHHHH   \n",
      "                               HHHHHHH    \n",
      "                                HHHHH     \n",
      "                                 HHH      \n",
      "                                  H       \n"
     ]
    }
   ],
   "source": [
    "#Replace all ______ with rjust, ljust or center. \n",
    "\n",
    "thickness = int(input()) #This must be an odd number\n",
    "c = 'H'\n",
    "\n",
    "#Top Cone\n",
    "for i in range(thickness):\n",
    "    print((c*i).rjust(thickness-1)+c+(c*i).ljust(thickness-1))\n",
    "\n",
    "#Top Pillars\n",
    "for i in range(thickness+1):\n",
    "    print((c*thickness).center(thickness*2)+(c*thickness).center(thickness*6))\n",
    "\n",
    "#Middle Belt\n",
    "for i in range((thickness+1)//2):\n",
    "    print((c*thickness*5).center(thickness*6))    \n",
    "\n",
    "#Bottom Pillars\n",
    "for i in range(thickness+1):\n",
    "    print((c*thickness).center(thickness*2)+(c*thickness).center(thickness*6))    \n",
    "\n",
    "#Bottom Cone\n",
    "for i in range(thickness):\n",
    "    print(((c*(thickness-i-1)).rjust(thickness)+c+(c*(thickness-i-1)).ljust(thickness)).rjust(thickness*6))"
   ]
  },
  {
   "cell_type": "markdown",
   "id": "1ad93cd3",
   "metadata": {},
   "source": [
    "## 21. Text Wrap"
   ]
  },
  {
   "cell_type": "code",
   "execution_count": null,
   "id": "dce57ef8",
   "metadata": {},
   "outputs": [
    {
     "name": "stdout",
     "output_type": "stream",
     "text": [
      "ABCDEFGHIJKLMNOPQRSTUVWXYZ\n",
      "4\n",
      "ABCD\n",
      "EFGH\n",
      "IJKL\n",
      "MNOP\n",
      "QRST\n",
      "UVWX\n",
      "YZ\n"
     ]
    }
   ],
   "source": [
    "import textwrap\n",
    "\n",
    "def wrap(string, max_width):\n",
    "    l = len(string)\n",
    "    for i in range(0,l+1,max_width):\n",
    "        ans = string[i:i+max_width]\n",
    "        if max_width==len(ans):\n",
    "            print(ans)\n",
    "        else:\n",
    "            return(ans)\n",
    "if __name__ == '__main__':\n",
    "    string, max_width = input(), int(input())\n",
    "    result = wrap(string, max_width)\n",
    "    print(result)\n",
    "#I realied on informtation found on internet on how to create an if to print an answer in a function insted of use the \"return\" because the return option only showed the last 'YZ' letters."
   ]
  },
  {
   "cell_type": "markdown",
   "id": "424a3765",
   "metadata": {},
   "source": [
    "## 22. Designer Door Mat"
   ]
  },
  {
   "cell_type": "code",
   "execution_count": null,
   "id": "567d3a9c",
   "metadata": {},
   "outputs": [
    {
     "name": "stdout",
     "output_type": "stream",
     "text": [
      "9 27\n",
      "------------.|.------------\n",
      "---------.|..|..|.---------\n",
      "------.|..|..|..|..|.------\n",
      "---.|..|..|..|..|..|..|.---\n",
      "----------WELCOME----------\n",
      "---.|..|..|..|..|..|..|.---\n",
      "------.|..|..|..|..|.------\n",
      "---------.|..|..|.---------\n",
      "------------.|.------------\n"
     ]
    }
   ],
   "source": [
    "l = map(int,input().split())\n",
    "N, M = l\n",
    "for i in range(1,N,2):\n",
    "    f = ('.|.'*i).center(M,'-')\n",
    "    print(f)\n",
    "print('WELCOME'.center(M,'-'))\n",
    "for i in range(N-2,0,-2):\n",
    "    b = ('.|.'*i).center(M,'-')\n",
    "    print(b)\n"
   ]
  },
  {
   "cell_type": "markdown",
   "id": "4253e11a",
   "metadata": {},
   "source": [
    "## 23. String Formatting"
   ]
  },
  {
   "cell_type": "code",
   "execution_count": null,
   "id": "175c5bfc",
   "metadata": {},
   "outputs": [
    {
     "name": "stdout",
     "output_type": "stream",
     "text": [
      "17\n",
      "    1     1     1     1\n",
      "    2     2     2    10\n",
      "    3     3     3    11\n",
      "    4     4     4   100\n",
      "    5     5     5   101\n",
      "    6     6     6   110\n",
      "    7     7     7   111\n",
      "    8    10     8  1000\n",
      "    9    11     9  1001\n",
      "   10    12     A  1010\n",
      "   11    13     B  1011\n",
      "   12    14     C  1100\n",
      "   13    15     D  1101\n",
      "   14    16     E  1110\n",
      "   15    17     F  1111\n",
      "   16    20    10 10000\n",
      "   17    21    11 10001\n"
     ]
    }
   ],
   "source": [
    "def print_formatted(number):\n",
    "    l = len(bin(number)[2:])\n",
    "    for i in range(1, number+1):\n",
    "        d = str(i)\n",
    "        o = str(oct(i))[2:]\n",
    "        h = str(hex(i))[2:]\n",
    "        h = h.upper()\n",
    "        b = str(bin(i))[2:]\n",
    "        print(d.rjust(l,' '),o.rjust(l,' '),h.rjust(l,' '),b.rjust(l,' '))\n",
    "        \n",
    "if __name__ == '__main__':\n",
    "    n = int(input())\n",
    "    print_formatted(n)"
   ]
  },
  {
   "cell_type": "markdown",
   "id": "2396fbaf",
   "metadata": {},
   "source": [
    "## 24. Alphabet Rangoli"
   ]
  },
  {
   "cell_type": "code",
   "execution_count": null,
   "id": "f09989fe",
   "metadata": {},
   "outputs": [
    {
     "name": "stdout",
     "output_type": "stream",
     "text": [
      "5\n",
      "--------e--------\n",
      "------e-d-e------\n",
      "----e-d-c-d-e----\n",
      "--e-d-c-b-c-d-e--\n",
      "e-d-c-b-a-b-c-d-e\n",
      "--e-d-c-b-c-d-e--\n",
      "----e-d-c-d-e----\n",
      "------e-d-e------\n",
      "--------e--------\n"
     ]
    }
   ],
   "source": [
    "def print_rangoli(size):\n",
    "    l = size\n",
    "    a = ''\n",
    "    r = ''\n",
    "    m = []\n",
    "    \n",
    "    for i in range(l):\n",
    "        a = a + chr(97+i)\n",
    "    \n",
    "    for i in a[::-1]:\n",
    "        r=r + ('-'+i)\n",
    "        b=r+r[(len(r)-2)::-1]\n",
    "        m.append(b)\n",
    "        m[-1]=m[-1].strip('-')\n",
    "        \n",
    "    for i in m:\n",
    "        ans = i.center(len(m[-1]),'-')\n",
    "        print(ans)\n",
    "        \n",
    "    for i in m[-2::-1]:\n",
    "        ans_b = i.center(len(m[-1]),'-')\n",
    "        print(ans_b)\n",
    "    \n",
    "if __name__ == '__main__':\n",
    "    n = int(input())\n",
    "    print_rangoli(n)\n",
    "#I relied on information found on internet on how to use chr (str to letters) and the correct use of slice notation"
   ]
  },
  {
   "cell_type": "markdown",
   "id": "1b54d650",
   "metadata": {},
   "source": [
    "## 25. Capitalize!"
   ]
  },
  {
   "cell_type": "code",
   "execution_count": null,
   "id": "0046723e",
   "metadata": {},
   "outputs": [
    {
     "name": "stdout",
     "output_type": "stream",
     "text": [
      "maria pena\n",
      "Maria Pena\n"
     ]
    }
   ],
   "source": [
    "import math\n",
    "import os\n",
    "import random\n",
    "import re\n",
    "import sys\n",
    "\n",
    "def solve(s):\n",
    "    for i in s.split():\n",
    "        s = s.replace(i,i.capitalize())\n",
    "    print(s)\n",
    "\n",
    "if __name__ == '__main__':\n",
    "\n",
    "    #fptr = open(os.environ['OUTPUT_PATH'], 'w')\n",
    "    \n",
    "    s = input()\n",
    "\n",
    "    result = solve(s)\n",
    "\n",
    "    #fptr.write(result + '\\n')\n",
    "\n",
    "    #fptr.close()\n",
    "# I relied on information found on internet about capitalize and replace a value"
   ]
  },
  {
   "cell_type": "markdown",
   "id": "40d9405b",
   "metadata": {},
   "source": [
    "## 26. The Minion Game"
   ]
  },
  {
   "cell_type": "code",
   "execution_count": null,
   "id": "09ebd445",
   "metadata": {},
   "outputs": [
    {
     "name": "stdout",
     "output_type": "stream",
     "text": [
      "BANANA\n",
      "Stuart 12\n"
     ]
    }
   ],
   "source": [
    "def minion_game(string):\n",
    "    v='AEIOU'\n",
    "    s=0 #consonants\n",
    "    k=0 #vowels\n",
    "    \n",
    "    for i in range(len(string)):\n",
    "        if string[i] not in v:\n",
    "            #s = s + len(string[i:])\n",
    "            s = s + len(string)-i\n",
    "        else:\n",
    "            #k = k + len(string[i:])\n",
    "            k = k + len(string)-i\n",
    "    \n",
    "    if(k>s):\n",
    "        print('Kevin '+ str(k))\n",
    "    elif(s>k):\n",
    "        print('Stuart '+ str(s))\n",
    "    else:\n",
    "        print('Draw')\n",
    "\n",
    "if __name__ == '__main__':\n",
    "    s = input()\n",
    "    minion_game(s)\n",
    "#Found information on internet about how to count the len of the string in a for in multiple ways"
   ]
  },
  {
   "cell_type": "markdown",
   "id": "70276dc9",
   "metadata": {},
   "source": [
    "## 27. Merge the Tools!"
   ]
  },
  {
   "cell_type": "code",
   "execution_count": null,
   "id": "605351f2",
   "metadata": {},
   "outputs": [
    {
     "name": "stdout",
     "output_type": "stream",
     "text": [
      "AABCAAADA\n",
      "3\n",
      "AB\n",
      "CA\n",
      "AD\n"
     ]
    }
   ],
   "source": [
    "def merge_the_tools(string, k):\n",
    "    l=[]\n",
    "    le=(len(string))//k\n",
    "    v=0\n",
    "    for i in range(le):\n",
    "        l.append(string[v:(v+k)])\n",
    "        v= v+k\n",
    "        \n",
    "    for j in l:\n",
    "        a = list(j)\n",
    "        d = dict.fromkeys(a)\n",
    "        l2 = list(d)\n",
    "        ans = ''.join(l2)\n",
    "        print(ans)\n",
    "        \n",
    "if __name__ == '__main__':\n",
    "    string, k = input(), int(input())\n",
    "    merge_the_tools(string, k)"
   ]
  },
  {
   "cell_type": "markdown",
   "id": "660ea32d",
   "metadata": {},
   "source": [
    "## 28. Introduction to Sets"
   ]
  },
  {
   "cell_type": "code",
   "execution_count": null,
   "id": "cdf99fb6",
   "metadata": {},
   "outputs": [
    {
     "name": "stdout",
     "output_type": "stream",
     "text": [
      "10\n",
      "161 182 161 154 176 170 167 171 170 174\n",
      "169.375\n"
     ]
    }
   ],
   "source": [
    "def average(array):\n",
    "    s = set(array)\n",
    "    return sum(s)/len(s)\n",
    "\n",
    "if __name__ == '__main__':\n",
    "    n = int(input())\n",
    "    arr = list(map(int, input().split()))\n",
    "    result = average(arr)\n",
    "    print(result)"
   ]
  },
  {
   "cell_type": "markdown",
   "id": "124afd9c",
   "metadata": {},
   "source": [
    "## 29. No Idea!"
   ]
  },
  {
   "cell_type": "code",
   "execution_count": null,
   "id": "91ebba88",
   "metadata": {},
   "outputs": [
    {
     "name": "stdout",
     "output_type": "stream",
     "text": [
      "5 5\n",
      "999999991 999999992 999999993 999999994 999999999\n",
      "999999991 999999993 999999995 999999999 999999997\n",
      "999999990 999999992 999999996 999999998 999999994\n",
      "['999999991', '999999992', '999999993', '999999994', '999999999']\n",
      "{'999999999', '999999997', '999999993', '999999995', '999999991'}\n",
      "{'999999990', '999999998', '999999994', '999999996', '999999992'}\n",
      "1\n"
     ]
    }
   ],
   "source": [
    "h=0\n",
    "e=input().split()\n",
    "n,m=e\n",
    "array=list(input().split(' '))\n",
    "a=set(input().split(' '))\n",
    "b=set(input().split(' '))\n",
    "\n",
    "print(array)\n",
    "print(a)\n",
    "print(b)\n",
    "\n",
    "for i in array:\n",
    "    if i in a:\n",
    "        h= h+1\n",
    "    elif i in b:\n",
    "        h= h-1\n",
    "print(h)        "
   ]
  },
  {
   "cell_type": "markdown",
   "id": "07ff3fdc",
   "metadata": {},
   "source": [
    "## 30. Symmetric Difference"
   ]
  },
  {
   "cell_type": "code",
   "execution_count": null,
   "id": "e90a15d6",
   "metadata": {},
   "outputs": [
    {
     "name": "stdout",
     "output_type": "stream",
     "text": [
      "4\n",
      "2 4 5 9\n",
      "4\n",
      "2 4 11 12\n",
      "5\n",
      "9\n",
      "11\n",
      "12\n"
     ]
    }
   ],
   "source": [
    "m = int(input())\n",
    "m_m= set(map(int,input().split(' ')))\n",
    "n = int(input())\n",
    "n_n= set(map(int,input().split(' ')))\n",
    "\n",
    "d1=m_m.difference(n_n)\n",
    "d2=n_n.difference(m_m)\n",
    "ans= d1.union(d2)\n",
    "\n",
    "l=sorted(list(ans))\n",
    "for i in l:\n",
    "    print(i)"
   ]
  },
  {
   "cell_type": "markdown",
   "id": "bf08496c",
   "metadata": {},
   "source": [
    "## 31. Set .add()"
   ]
  },
  {
   "cell_type": "code",
   "execution_count": null,
   "id": "3210f6d6",
   "metadata": {},
   "outputs": [
    {
     "name": "stdout",
     "output_type": "stream",
     "text": [
      "7\n",
      "UK\n",
      "China\n",
      "USA\n",
      "France\n",
      "New Zeland\n",
      "UK\n",
      "France\n",
      "5\n"
     ]
    }
   ],
   "source": [
    "n = int(input())\n",
    "c= set()\n",
    "for i in range (0,n):\n",
    "    c.add(input())\n",
    "print(len(c))"
   ]
  },
  {
   "cell_type": "markdown",
   "id": "925a5e7f",
   "metadata": {},
   "source": [
    "## 32. Set .discard(), .remove() & .pop()"
   ]
  },
  {
   "cell_type": "code",
   "execution_count": null,
   "id": "b819c3e7",
   "metadata": {},
   "outputs": [
    {
     "name": "stdout",
     "output_type": "stream",
     "text": [
      "9\n",
      "1 2 3 4 5 6 7 8 9\n",
      "10\n",
      "pop\n",
      "remove 9\n",
      "discard 9\n",
      "discard 8\n",
      "remove 7\n",
      "pop\n",
      "discard 6\n",
      "remove 5\n",
      "pop\n",
      "discard 5\n",
      "4\n"
     ]
    }
   ],
   "source": [
    "n=int(input())\n",
    "s=set(map(int,input().split(' ')))\n",
    "N=int(input())\n",
    "for i in range (0,N):\n",
    "    o=input().split()\n",
    "    if o[0]=='pop':\n",
    "        s.pop()\n",
    "    elif o[0]=='remove':\n",
    "        e = int(o[1])\n",
    "        s.remove(e)\n",
    "    else:\n",
    "        e = int(o[1])\n",
    "        s.discard(e)\n",
    "ans=sum(list(s))\n",
    "print(ans)"
   ]
  },
  {
   "cell_type": "markdown",
   "id": "36b8cb25",
   "metadata": {},
   "source": [
    "## 33. Set .union() Operation"
   ]
  },
  {
   "cell_type": "code",
   "execution_count": null,
   "id": "a1238162",
   "metadata": {},
   "outputs": [
    {
     "name": "stdout",
     "output_type": "stream",
     "text": [
      "9\n",
      "1 2 3 4 5 6 7 8 9\n",
      "9\n",
      "10 1 2 3 11 21 55 6 8\n",
      "13\n"
     ]
    }
   ],
   "source": [
    "n=int(input())\n",
    "n_s=set(map(int,input().split(' ')))\n",
    "b=int(input())\n",
    "b_s=set(map(int,input().split(' ')))\n",
    "\n",
    "ans = n_s.union(b_s)\n",
    "ans_2= list(ans)\n",
    "print(len(ans_2))"
   ]
  },
  {
   "cell_type": "markdown",
   "id": "e00170c2",
   "metadata": {},
   "source": [
    "## 34. Set .intersection() Operation"
   ]
  },
  {
   "cell_type": "code",
   "execution_count": null,
   "id": "0af8542f",
   "metadata": {},
   "outputs": [
    {
     "name": "stdout",
     "output_type": "stream",
     "text": [
      "9\n",
      "1 2 3 4 5 6 7 8 9\n",
      "9\n",
      "10 1 2 3 11 21 55 6 8\n",
      "5\n"
     ]
    }
   ],
   "source": [
    "n=int(input())\n",
    "n_s=set(map(int,input().split(' ')))\n",
    "b=int(input())\n",
    "b_s=set(map(int,input().split(' ')))\n",
    "\n",
    "ans = n_s.intersection(b_s)\n",
    "ans_2=list(ans)\n",
    "print(len(ans_2))"
   ]
  },
  {
   "cell_type": "markdown",
   "id": "f9141370",
   "metadata": {},
   "source": [
    "## 35. Set .difference() Operation"
   ]
  },
  {
   "cell_type": "code",
   "execution_count": null,
   "id": "f39e6467",
   "metadata": {},
   "outputs": [
    {
     "name": "stdout",
     "output_type": "stream",
     "text": [
      "9\n",
      "1 2 3 4 5 6 7 8 9\n",
      "9\n",
      "10 1 2 3 11 21 55 6 8\n",
      "4\n"
     ]
    }
   ],
   "source": [
    "n=int(input())\n",
    "n_s=set(map(int,input().split(' ')))\n",
    "b=int(input())\n",
    "b_s=set(map(int,input().split(' ')))\n",
    "\n",
    "ans = n_s.difference(b_s)\n",
    "ans_2=list(ans)\n",
    "print(len(ans_2))"
   ]
  },
  {
   "cell_type": "markdown",
   "id": "2a5b0cbc",
   "metadata": {},
   "source": [
    "## 36. Set .symmetric_difference() Operation"
   ]
  },
  {
   "cell_type": "code",
   "execution_count": null,
   "id": "9c929f23",
   "metadata": {},
   "outputs": [
    {
     "name": "stdout",
     "output_type": "stream",
     "text": [
      "9\n",
      "1 2 3 4 5 6 7 8 9\n",
      "9\n",
      "10 1 2 3 11 21 55 6 8\n",
      "8\n"
     ]
    }
   ],
   "source": [
    "n=int(input())\n",
    "n_s=set(map(int,input().split(' ')))\n",
    "b=int(input())\n",
    "b_s=set(map(int,input().split(' ')))\n",
    "\n",
    "ans = n_s.symmetric_difference(b_s)\n",
    "ans_2=list(ans)\n",
    "print(len(ans_2))"
   ]
  },
  {
   "cell_type": "markdown",
   "id": "0e94d8cb",
   "metadata": {},
   "source": [
    "## 37. Set Mutations"
   ]
  },
  {
   "cell_type": "code",
   "execution_count": null,
   "id": "f0a2c96c",
   "metadata": {},
   "outputs": [
    {
     "name": "stdout",
     "output_type": "stream",
     "text": [
      "16\n",
      "1 2 3 4 5 6 7 8 9 10 11 12 13 14 24 52\n",
      "4\n",
      "intersection_update 10\n",
      "2 3 5 6 8 9 1 4 7 11\n",
      "update 2\n",
      "55 66\n",
      "symmetric_difference_update 5\n",
      "22 7 35 62 58\n",
      "difference_update 7\n",
      "11 22 35 55 58 62 66\n",
      "38\n"
     ]
    }
   ],
   "source": [
    "a=int(input())\n",
    "a_s=set(map(int,input().split(' ')))\n",
    "n=int(input())\n",
    "for i in range(0,n):\n",
    "    o,o_o=input().split()\n",
    "    e=set(map(int,input().split(' ')))\n",
    "    if o=='update':\n",
    "        a_s.update(e)\n",
    "    elif o=='intersection_update':\n",
    "        a_s.intersection_update(e)\n",
    "    elif o=='symmetric_difference_update':\n",
    "        a_s.symmetric_difference_update(e)\n",
    "    elif o=='difference_update':\n",
    "        a_s.difference_update(e)\n",
    "ans = sum(a_s)\n",
    "print(ans)"
   ]
  },
  {
   "cell_type": "markdown",
   "id": "14c5727a",
   "metadata": {},
   "source": [
    "## 38. The Captain's Room"
   ]
  },
  {
   "cell_type": "code",
   "execution_count": null,
   "id": "8c0a4f67",
   "metadata": {},
   "outputs": [
    {
     "name": "stdout",
     "output_type": "stream",
     "text": [
      "5\n",
      "1 2 3 6 5 4 4 2 5 3 6 1 6 5 3 2 4 1 2 5 1 4 3 6 8 4 3 1 5 6 2\n",
      "8\n"
     ]
    }
   ],
   "source": [
    "k = int(input())\n",
    "k_s= list(map(int, input().split(' ')))\n",
    "ans = {}\n",
    "for i in k_s:\n",
    "    if i in ans:\n",
    "          ans[i]= ans[i]+1\n",
    "    else:\n",
    "          ans[i]=1\n",
    "for i in ans:\n",
    "    if ans[i] == 1:\n",
    "          print(ans)\n",
    "          break\n",
    "#Found information on internet on how to count using dictionaries"
   ]
  },
  {
   "cell_type": "markdown",
   "id": "db2d09bb",
   "metadata": {},
   "source": [
    "## 39. Check Subset"
   ]
  },
  {
   "cell_type": "code",
   "execution_count": null,
   "id": "5f312677",
   "metadata": {},
   "outputs": [
    {
     "name": "stdout",
     "output_type": "stream",
     "text": [
      "3\n",
      "5\n",
      "1 2 3 5 6\n",
      "9\n",
      "9 8 5 6 3 2 1 4 7\n",
      "0\n",
      "True\n",
      "1\n",
      "2\n",
      "5\n",
      "3 6 5 4 1\n",
      "1\n",
      "False\n",
      "7\n",
      "1 2 3 5 6 8 9\n",
      "3\n",
      "9 8 2\n",
      "4\n",
      "False\n"
     ]
    }
   ],
   "source": [
    "T = int(input())\n",
    "for i in range(0,T):\n",
    "    A = int(input())\n",
    "    a_a = set(map(int,input().split(' ')))\n",
    "    \n",
    "    B = int(input())\n",
    "    b_b = set(map(int,input().split(' ')))\n",
    "    \n",
    "    ans = a_a.difference(b_b)\n",
    "    if len(ans) ==0:\n",
    "        print(\"True\")\n",
    "    else:\n",
    "        print(\"False\")"
   ]
  },
  {
   "cell_type": "markdown",
   "id": "17223210",
   "metadata": {},
   "source": [
    "## 40. Check Strict Superset"
   ]
  },
  {
   "cell_type": "code",
   "execution_count": null,
   "id": "ad39dfc6",
   "metadata": {},
   "outputs": [
    {
     "name": "stdout",
     "output_type": "stream",
     "text": [
      "1 2 3 4 5 6 7 8 9 10 11 12 23 45 84 78\n",
      "2\n",
      "1 2 3 4 5\n",
      "100 11 12\n",
      "False\n"
     ]
    }
   ],
   "source": [
    "A = set(map(int,input().split(' ')))\n",
    "n = int(input())\n",
    "sol=0\n",
    "false=0\n",
    "for i in range(0,n):\n",
    "    s = set(map(int,input().split(' ')))\n",
    "    if A.issuperset(s):\n",
    "        sol = sol+1\n",
    "    else:\n",
    "        false= false+1\n",
    "if false>0:\n",
    "    print(\"False\")\n",
    "else:\n",
    "    print(\"True\")"
   ]
  },
  {
   "cell_type": "markdown",
   "id": "59db00d3",
   "metadata": {},
   "source": [
    "## 41. collections.Counter()"
   ]
  },
  {
   "cell_type": "code",
   "execution_count": null,
   "id": "0ca50185",
   "metadata": {},
   "outputs": [
    {
     "name": "stdout",
     "output_type": "stream",
     "text": [
      "10\n",
      "2 3 4 5 6 8 7 6 5 18\n",
      "6\n",
      "6 55\n",
      "6 45\n",
      "6 55\n",
      "4 40\n",
      "18 60\n",
      "10 50\n",
      "255\n"
     ]
    }
   ],
   "source": [
    "from collections import Counter\n",
    "\n",
    "X = int(input())\n",
    "l = list(map(int, input().split(' ')))\n",
    "c = Counter(l)\n",
    "N = int(input())\n",
    "ans=0\n",
    "for i in range(0,N):\n",
    "    s,x = map(int,input().split())\n",
    "    if s in c and c[s]>0:\n",
    "        ans = ans + x\n",
    "        c[s] = c[s]-1\n",
    "print(ans)"
   ]
  },
  {
   "cell_type": "markdown",
   "id": "fbd91d43",
   "metadata": {},
   "source": [
    "## 42. DefaultDict Tutorial"
   ]
  },
  {
   "cell_type": "code",
   "execution_count": null,
   "id": "73e5633d",
   "metadata": {},
   "outputs": [
    {
     "name": "stdout",
     "output_type": "stream",
     "text": [
      "5 2\n",
      "a\n",
      "a\n",
      "b\n",
      "a\n",
      "b\n",
      "a\n",
      "1 2 4\n",
      "b\n",
      "3 5\n"
     ]
    }
   ],
   "source": [
    "from collections import defaultdict\n",
    "n, m = list(map(int,input().split(' ')))\n",
    "d = defaultdict(list)\n",
    "for i in range (1,n+1):\n",
    "    a = input()\n",
    "    d[a].append(i)\n",
    "for j in range (0,m):\n",
    "    b = input()\n",
    "    if b in d:\n",
    "        ans = d[b]\n",
    "        print(*ans)\n",
    "    else:\n",
    "        print(\"-1\")\n",
    "#Found information on internet on how to append in a defaultdict and how to decompress a list "
   ]
  },
  {
   "cell_type": "markdown",
   "id": "da72d5df",
   "metadata": {},
   "source": [
    "## 43. Collections.namedtuple()"
   ]
  },
  {
   "cell_type": "code",
   "execution_count": null,
   "id": "fadbbe86",
   "metadata": {},
   "outputs": [
    {
     "name": "stdout",
     "output_type": "stream",
     "text": [
      "5\n",
      "MARKS      CLASS      NAME       ID        \n",
      "92         2          Calum      1         \n",
      "82         5          Scott      2         \n",
      "94         2          Jason      3         \n",
      "55         8          Glenn      4         \n",
      "82         2          Fergus     5\n",
      "81.00\n"
     ]
    }
   ],
   "source": [
    "import collections\n",
    "N=int(input())\n",
    "summ=[]\n",
    "r = 0\n",
    "\n",
    "for i in range (0,N+1):\n",
    "    if i ==0:\n",
    "        title = input()\n",
    "        tit_2=collections.namedtuple('Student',title)\n",
    "    else:\n",
    "        a,b,c,d=list(input().split())\n",
    "        ans=tit_2(a,b,c,d)\n",
    "        summ.append(ans)\n",
    "for i in summ:\n",
    "    l = int(i.MARKS)\n",
    "    r = r + l\n",
    "    res = r/N\n",
    "print(\"%.2f\"%res)"
   ]
  },
  {
   "cell_type": "markdown",
   "id": "e590cb60",
   "metadata": {},
   "source": [
    "## 44. Collections.OrderedDict()"
   ]
  },
  {
   "cell_type": "code",
   "execution_count": 10,
   "id": "826f4367",
   "metadata": {},
   "outputs": [
    {
     "name": "stdout",
     "output_type": "stream",
     "text": [
      "r 1\n",
      "a 2\n"
     ]
    }
   ],
   "source": [
    "import collections\n",
    "N = int(input())\n",
    "ans = collections.OrderedDict()\n",
    "\n",
    "for i in range (0,N):\n",
    "    l = input().split(' ')\n",
    "    precio = int(l[-1])\n",
    "    nombre= \" \".join(l[:-1])\n",
    "   \n",
    "    if nombre in ans:\n",
    "        ans[nombre] += precio\n",
    "    else:\n",
    "        ans[nombre] = precio\n",
    "\n",
    "for llave,valor in ans.items():\n",
    "    print(llave,valor)"
   ]
  },
  {
   "cell_type": "markdown",
   "id": "11f96a69",
   "metadata": {},
   "source": [
    "## 45. Word Order"
   ]
  },
  {
   "cell_type": "code",
   "execution_count": 14,
   "id": "7f32a1ff",
   "metadata": {},
   "outputs": [
    {
     "name": "stdout",
     "output_type": "stream",
     "text": [
      "3\n",
      "2 1 1 "
     ]
    }
   ],
   "source": [
    "n= int(input())\n",
    "ans = collections.OrderedDict()\n",
    "\n",
    "for i in range(0,n):\n",
    "    palabra = input()\n",
    "    \n",
    "    if palabra in ans:\n",
    "        ans[palabra] += 1\n",
    "    else:\n",
    "        ans[palabra] = 1\n",
    "\n",
    "print(len(ans))\n",
    "\n",
    "for llave,valor in ans.items():\n",
    "    print(valor,end=\" \")\n"
   ]
  },
  {
   "cell_type": "markdown",
   "id": "f6721b96",
   "metadata": {},
   "source": [
    "## 46. Collections.deque()"
   ]
  },
  {
   "cell_type": "code",
   "execution_count": 23,
   "id": "f1cb1e80",
   "metadata": {},
   "outputs": [
    {
     "name": "stdout",
     "output_type": "stream",
     "text": [
      "1 2 "
     ]
    }
   ],
   "source": [
    "N = int(input())\n",
    "ans = collections.deque()\n",
    "\n",
    "for i in range(0,N):\n",
    "    accion = input().split(' ')\n",
    "    if accion[0] == 'append':\n",
    "        ans.append(accion[1])\n",
    "    elif accion[0] == 'pop':\n",
    "        ans.pop()\n",
    "    elif accion[0] == 'popleft':\n",
    "        ans.popleft()\n",
    "    elif accion[0] == 'appendleft':\n",
    "        ans.appendleft(accion[1])\n",
    "\n",
    "for valor in ans:\n",
    "    print(valor, end=\" \")   \n"
   ]
  },
  {
   "cell_type": "markdown",
   "id": "15825092",
   "metadata": {},
   "source": [
    "## 47. Company Logo"
   ]
  },
  {
   "cell_type": "code",
   "execution_count": 2,
   "id": "19d7e592",
   "metadata": {},
   "outputs": [
    {
     "name": "stdout",
     "output_type": "stream",
     "text": [
      "b 3\n",
      "a 2\n",
      "c 2\n"
     ]
    }
   ],
   "source": [
    "import collections\n",
    "\n",
    "s = list(input())\n",
    "sor = sorted(s)\n",
    "top_frecuentes = collections.Counter(sor)\n",
    "\n",
    "for letter, count in top_frecuentes.most_common(3):\n",
    "    print(letter,count)\n"
   ]
  },
  {
   "cell_type": "markdown",
   "id": "c50f953d",
   "metadata": {},
   "source": [
    "## 48. Piling Up!"
   ]
  },
  {
   "cell_type": "code",
   "execution_count": 8,
   "id": "468a2c58",
   "metadata": {},
   "outputs": [
    {
     "name": "stdout",
     "output_type": "stream",
     "text": [
      "Yes\n",
      "No\n"
     ]
    }
   ],
   "source": [
    "T = int(input())\n",
    "ans = []\n",
    "\n",
    "for i in range (0,T):\n",
    "    n = int(input())\n",
    "    l = list(map(int,input().split(' ')))\n",
    "    \n",
    "    for i in range(0,n-1):\n",
    "        if l[0] >= l[len(l)-1]:\n",
    "            var = l[0]\n",
    "            l.pop(0)\n",
    "        elif l[0] < l[len(l)-1]:\n",
    "            var = l[len(l)-1]\n",
    "            l.pop(len(l)-1)\n",
    "        else:\n",
    "            continue\n",
    "\n",
    "        if len(l)==1:\n",
    "            ans.append('Yes')\n",
    "        \n",
    "        if((l[0]>var) or (l[len(l)-1]>var)):\n",
    "            ans.append('No')\n",
    "\n",
    "            break\n",
    "\n",
    "print(\"\\n\".join(ans))\n"
   ]
  },
  {
   "cell_type": "markdown",
   "id": "e9f54fbc",
   "metadata": {},
   "source": [
    "## 49. Calendar Module"
   ]
  },
  {
   "cell_type": "code",
   "execution_count": 22,
   "id": "ea6c5e0f",
   "metadata": {},
   "outputs": [
    {
     "name": "stdout",
     "output_type": "stream",
     "text": [
      "WEDNESDAY\n"
     ]
    }
   ],
   "source": [
    "import calendar\n",
    "import datetime\n",
    "list = []\n",
    "mes,dia,ano = map(int, input().split(' '))\n",
    "fecha = datetime.date(ano, mes, dia)\n",
    "nombre_dia = fecha.weekday()\n",
    "\n",
    "ans = calendar.day_name[nombre_dia]\n",
    "print(ans.upper())\n"
   ]
  },
  {
   "cell_type": "markdown",
   "id": "3ab83f9d",
   "metadata": {},
   "source": [
    "## 50. Time Delta"
   ]
  },
  {
   "cell_type": "code",
   "execution_count": 28,
   "id": "22a105d6",
   "metadata": {},
   "outputs": [
    {
     "name": "stdout",
     "output_type": "stream",
     "text": [
      "25200\n",
      "88200\n"
     ]
    }
   ],
   "source": [
    "import math\n",
    "import os\n",
    "import random\n",
    "import re\n",
    "import sys\n",
    "from datetime import datetime\n",
    "\n",
    "# Complete the time_delta function below.\n",
    "def time_delta(t1, t2):\n",
    "    primera_fecha = datetime.strptime(t1, '%a %d %b %Y %H:%M:%S %z')\n",
    "    segunda_fecha = datetime.strptime(t2, '%a %d %b %Y %H:%M:%S %z')\n",
    "\n",
    "    ans = abs(primera_fecha-segunda_fecha)\n",
    "    ans = ans.total_seconds()\n",
    "    print(int(ans))\n",
    "\n",
    "\n",
    "if __name__ == '__main__':\n",
    "    #fptr = open(os.environ['OUTPUT_PATH'], 'w')\n",
    "\n",
    "    t = int(input())\n",
    "\n",
    "    for t_itr in range(t):\n",
    "        t1 = input()\n",
    "\n",
    "        t2 = input()\n",
    "\n",
    "        delta = time_delta(t1, t2)\n",
    "\n",
    "\n",
    "        #fptr.write(delta + '\\n')\n",
    "\n",
    "   #fptr.close()\n",
    "#Found information on internet on how tu use strptime and its date formats to convert a date in a number"
   ]
  },
  {
   "cell_type": "markdown",
   "id": "3939f0d8",
   "metadata": {},
   "source": [
    "## 51. Exceptions"
   ]
  },
  {
   "cell_type": "code",
   "execution_count": 32,
   "id": "42aa829e",
   "metadata": {},
   "outputs": [
    {
     "name": "stdout",
     "output_type": "stream",
     "text": [
      "Error code: integer division or modulo by zero\n",
      "Error code: invalid literal for int() with base 10: '$'\n",
      "3\n"
     ]
    }
   ],
   "source": [
    "T = int(input())\n",
    "\n",
    "for i in range(0,T):\n",
    "    try:\n",
    "        a,b = map(int, input().split(' '))\n",
    "        print(a//b)\n",
    "    except Exception as e:\n",
    "        print(\"Error Code:\",e)\n"
   ]
  },
  {
   "cell_type": "markdown",
   "id": "9ad1b0fb",
   "metadata": {},
   "source": [
    "## 52. Zipped!"
   ]
  },
  {
   "cell_type": "code",
   "execution_count": 38,
   "id": "1402b89e",
   "metadata": {},
   "outputs": [
    {
     "name": "stdout",
     "output_type": "stream",
     "text": [
      "90.0\n",
      "91.0\n",
      "82.0\n",
      "90.0\n",
      "85.5\n"
     ]
    }
   ],
   "source": [
    "N, X = input().split(' ')\n",
    "X = int(X)\n",
    "notas =[]\n",
    "for i in range (0,X):\n",
    "    list = map(float,input().split(' '))\n",
    "    notas.append(list)\n",
    "\n",
    "for nota in zip(*notas):\n",
    "    X = sum(nota)/len(nota)\n",
    "    print(X)\n",
    "# Found information on internet on how (*var) works"
   ]
  },
  {
   "cell_type": "markdown",
   "id": "b34d140f",
   "metadata": {},
   "source": [
    "## 53. Athlete Sort"
   ]
  },
  {
   "cell_type": "code",
   "execution_count": 2,
   "id": "878a3b49",
   "metadata": {},
   "outputs": [
    {
     "name": "stdout",
     "output_type": "stream",
     "text": [
      "[[10, 2, 5], [7, 1, 0], [9, 9, 9], [1, 23, 12], [6, 5, 9]]\n",
      "7 1 0\n",
      "10 2 5\n",
      "6 5 9\n",
      "9 9 9\n",
      "1 23 12\n"
     ]
    }
   ],
   "source": [
    "#!/bin/python3\n",
    "\n",
    "import math\n",
    "import os\n",
    "import random\n",
    "import re\n",
    "import sys\n",
    "\n",
    "\n",
    "\n",
    "if __name__ == '__main__':\n",
    "    nm = input().split()\n",
    "\n",
    "    n = int(nm[0])\n",
    "\n",
    "    m = int(nm[1])\n",
    "\n",
    "    arr = []\n",
    "\n",
    "    for _ in range(n):\n",
    "        arr.append(list(map(int, input().rstrip().split())))\n",
    "\n",
    "    k = int(input())\n",
    "\n",
    "    arr.sort(key= lambda student: student[k])\n",
    "\n",
    "    for grades in arr:\n",
    "        print(*grades)\n",
    "\n",
    "#Found information on internet on how to use lambda in a sort function.\n"
   ]
  },
  {
   "cell_type": "markdown",
   "id": "d528187c",
   "metadata": {},
   "source": [
    "## 54. ginortS"
   ]
  },
  {
   "cell_type": "code",
   "execution_count": 17,
   "id": "d9d036a4",
   "metadata": {},
   "outputs": [
    {
     "name": "stdout",
     "output_type": "stream",
     "text": [
      "ginortS1324\n"
     ]
    }
   ],
   "source": [
    "S = input()\n",
    "\n",
    "mayuscula = []\n",
    "minus = []\n",
    "impar = []\n",
    "par = []\n",
    "\n",
    "for letras in S:\n",
    "    if letras.isalpha():\n",
    "        if letras.isupper():\n",
    "            mayuscula.append(letras)\n",
    "        else:\n",
    "            minus.append(letras)\n",
    "    else:\n",
    "        if int(letras)%2 ==0:\n",
    "            par.append(letras)\n",
    "        else:\n",
    "            impar.append(letras)\n",
    "\n",
    "minus_s = sorted(minus)\n",
    "mayus_s = sorted(mayuscula)\n",
    "impar_s = sorted(impar)\n",
    "par_s = sorted(par)\n",
    "\n",
    "ans = ''.join(minus_s)+''.join(mayus_s)+''.join(impar_s)+''.join(par_s)\n",
    "\n",
    "print(ans)\n"
   ]
  },
  {
   "cell_type": "markdown",
   "id": "bea1ab60",
   "metadata": {},
   "source": [
    "## 55. Map and Lambda Function"
   ]
  },
  {
   "cell_type": "code",
   "execution_count": 21,
   "id": "e87cf59d",
   "metadata": {},
   "outputs": [
    {
     "name": "stdout",
     "output_type": "stream",
     "text": [
      "[0, 1, 1, 8, 27]\n"
     ]
    }
   ],
   "source": [
    "cube = lambda x: x**3\n",
    "\n",
    "def fibonacci(n):\n",
    "    num_1 = 0\n",
    "    num_2 = 1\n",
    "    num_3 = 0\n",
    "    ans = []\n",
    "    while n>0:\n",
    "        ans.append(num_1)\n",
    "        num_3 = num_1 + num_2\n",
    "        num_1 = num_2\n",
    "        num_2 = num_3\n",
    "        n= n-1\n",
    "    return ans\n",
    "\n",
    "if __name__ == '__main__':\n",
    "    n = int(input())\n",
    "    print(list(map(cube, fibonacci(n))))\n",
    "\n",
    "#Found information on internet on how to create a code using the fibonnaci numbers"
   ]
  },
  {
   "cell_type": "markdown",
   "id": "961cf0bc",
   "metadata": {},
   "source": [
    "## 56. XML 1 - Find the Score"
   ]
  },
  {
   "cell_type": "code",
   "execution_count": 22,
   "id": "699996ba",
   "metadata": {},
   "outputs": [
    {
     "ename": "ParseError",
     "evalue": "no element found: line 1, column 0 (<string>)",
     "output_type": "error",
     "traceback": [
      "Traceback \u001b[0;36m(most recent call last)\u001b[0m:\n",
      "\u001b[0m  File \u001b[1;32m/opt/homebrew/lib/python3.10/site-packages/IPython/core/interactiveshell.py:3378\u001b[0m in \u001b[1;35mrun_code\u001b[0m\n    exec(code_obj, self.user_global_ns, self.user_ns)\u001b[0m\n",
      "\u001b[0m  Cell \u001b[1;32mIn [22], line 14\u001b[0m\n    tree = etree.ElementTree(etree.fromstring(xml))\u001b[0m\n",
      "\u001b[0;36m  File \u001b[0;32m/opt/homebrew/Cellar/python@3.10/3.10.6_2/Frameworks/Python.framework/Versions/3.10/lib/python3.10/xml/etree/ElementTree.py:1343\u001b[0;36m in \u001b[0;35mXML\u001b[0;36m\n\u001b[0;31m    return parser.close()\u001b[0;36m\n",
      "\u001b[0;36m  File \u001b[0;32m<string>\u001b[0;36m\u001b[0m\n\u001b[0;31mParseError\u001b[0m\u001b[0;31m:\u001b[0m no element found: line 1, column 0\n"
     ]
    }
   ],
   "source": [
    "import sys\n",
    "import xml.etree.ElementTree as etree\n",
    "\n",
    "def get_attr_number(node):\n",
    "    cont =0\n",
    "    for attr in node:\n",
    "        cont = cont + get_attr_number(attr)\n",
    "    ans = cont + len(node.attrib)\n",
    "    return(ans)\n",
    "    \n",
    "if __name__ == '__main__':\n",
    "    sys.stdin.readline()\n",
    "    xml = sys.stdin.read()\n",
    "    tree = etree.ElementTree(etree.fromstring(xml))\n",
    "    root = tree.getroot()\n",
    "    print(get_attr_number(root))\n",
    "\n",
    "#Found information on internet on XML. I didn't know how to work with one."
   ]
  },
  {
   "cell_type": "markdown",
   "id": "b61494e9",
   "metadata": {},
   "source": [
    "## 57. XML2 - Find the Maximum Depth"
   ]
  },
  {
   "cell_type": "code",
   "execution_count": 23,
   "id": "beb28d56",
   "metadata": {},
   "outputs": [
    {
     "name": "stdout",
     "output_type": "stream",
     "text": [
      "1\n"
     ]
    }
   ],
   "source": [
    "import xml.etree.ElementTree as etree\n",
    "\n",
    "maxdepth = 0\n",
    "def depth(elem, level):\n",
    "    global maxdepth\n",
    "    if level==maxdepth:\n",
    "        maxdepth = maxdepth + 1\n",
    "    for i in elem:\n",
    "        depth(i, level + 1)\n",
    "\n",
    "if __name__ == '__main__':\n",
    "    n = int(input())\n",
    "    xml = \"\"\n",
    "    for i in range(n):\n",
    "        xml =  xml + input() + \"\\n\"\n",
    "    tree = etree.ElementTree(etree.fromstring(xml))\n",
    "    depth(tree.getroot(), -1)\n",
    "    print(maxdepth)\n",
    "#Found information on internet about XML depth and how to use pyhton to calculate it."
   ]
  },
  {
   "cell_type": "markdown",
   "id": "c783bf43",
   "metadata": {},
   "source": [
    "## 58. Standardize Mobile Number Using Decorators"
   ]
  },
  {
   "cell_type": "code",
   "execution_count": 31,
   "id": "89955fff",
   "metadata": {},
   "outputs": [
    {
     "name": "stdout",
     "output_type": "stream",
     "text": [
      "+91 78954 62130\n",
      "+91 91959 69878\n",
      "+91 98756 41230\n"
     ]
    }
   ],
   "source": [
    "def wrapper(f):\n",
    "    def fun(l):\n",
    "        ans =[]\n",
    "        for number in l:\n",
    "            a = []\n",
    "            a = number[::-1][0:10][::-1]\n",
    "            a = ' '.join([\"+91\"]+[a[0:5], a[5:]])\n",
    "            ans.append(a)\n",
    "        f(ans)\n",
    "    return fun\n",
    "\n",
    "@wrapper\n",
    "def sort_phone(l):\n",
    "    print(*sorted(l), sep='\\n')\n",
    "\n",
    "if __name__ == '__main__':\n",
    "    l = [input() for _ in range(int(input()))]\n",
    "    sort_phone(l) \n"
   ]
  },
  {
   "cell_type": "markdown",
   "id": "f157b5e2",
   "metadata": {},
   "source": [
    "## 59. Decorators 2 - Name Directory"
   ]
  },
  {
   "cell_type": "code",
   "execution_count": 8,
   "id": "720cdfa2",
   "metadata": {},
   "outputs": [
    {
     "name": "stdout",
     "output_type": "stream",
     "text": [
      "Mr. Mike Thomson\n",
      "Ms. Andria Bustle\n",
      "Mr. Robert Bustle\n"
     ]
    }
   ],
   "source": [
    "import operator\n",
    "\n",
    "def person_lister(f):\n",
    "    def inner(people):\n",
    "        a = []\n",
    "        a = sorted(people, key = lambda person: int(person[2]))\n",
    "        return (f(persona) for persona in a)\n",
    "    return inner\n",
    "\n",
    "@person_lister\n",
    "def name_format(person):\n",
    "    return (\"Mr. \" if person[3] == \"M\" else \"Ms. \") + person[0] + \" \" + person[1]\n",
    "\n",
    "if __name__ == '__main__':\n",
    "    people = [input().split() for i in range(int(input()))]\n",
    "    print(*name_format(people), sep='\\n')"
   ]
  },
  {
   "cell_type": "markdown",
   "id": "0b05e40a",
   "metadata": {},
   "source": [
    " ## 60. Arrays"
   ]
  },
  {
   "cell_type": "code",
   "execution_count": 5,
   "id": "d6ddf521",
   "metadata": {},
   "outputs": [
    {
     "name": "stdout",
     "output_type": "stream",
     "text": [
      "[-10.  -8.   4.   3.   2.   1.]\n",
      "None\n"
     ]
    }
   ],
   "source": [
    "import numpy\n",
    "\n",
    "def arrays(arr):\n",
    "    ans = numpy.array(arr[::-1],float)\n",
    "    return ans\n",
    "\n",
    "arr = input().strip().split(' ')\n",
    "result = arrays(arr)\n",
    "print(result)"
   ]
  },
  {
   "cell_type": "markdown",
   "id": "7f584bb7",
   "metadata": {},
   "source": [
    "## 61. Shape and Reshape"
   ]
  },
  {
   "cell_type": "code",
   "execution_count": 10,
   "id": "6f666fe3",
   "metadata": {},
   "outputs": [
    {
     "name": "stdout",
     "output_type": "stream",
     "text": [
      "[[1 2 3]\n",
      " [4 5 6]\n",
      " [7 8 9]]\n"
     ]
    }
   ],
   "source": [
    "import numpy\n",
    "l = input().split(' ')\n",
    "l_ans = numpy.array(l,int)\n",
    "print (numpy.reshape(l_ans,(3,3)))"
   ]
  },
  {
   "cell_type": "markdown",
   "id": "e23e846a",
   "metadata": {},
   "source": [
    "## 62. Transpose and Flatten"
   ]
  },
  {
   "cell_type": "code",
   "execution_count": 15,
   "id": "9b2d1850",
   "metadata": {},
   "outputs": [
    {
     "name": "stdout",
     "output_type": "stream",
     "text": [
      "[[1 3]\n",
      " [2 4]]\n",
      "[1 2 3 4]\n"
     ]
    }
   ],
   "source": [
    "import numpy\n",
    "N, M = map(int,input().split(' '))\n",
    "l = []\n",
    "for i in range (0,N):\n",
    "    N_2 = list(input().split(' '))\n",
    "    l.append(N_2)\n",
    "ans = numpy.array(l, int)\n",
    "trans = numpy.transpose(ans)\n",
    "flatten = ans.flatten()\n",
    "print(trans)\n",
    "print(flatten)"
   ]
  },
  {
   "cell_type": "markdown",
   "id": "8c634831",
   "metadata": {},
   "source": [
    "## 63. Concatenate"
   ]
  },
  {
   "cell_type": "code",
   "execution_count": 18,
   "id": "30040ad9",
   "metadata": {},
   "outputs": [
    {
     "name": "stdout",
     "output_type": "stream",
     "text": [
      "[[1 2]\n",
      " [1 2]\n",
      " [1 2]\n",
      " [1 2]\n",
      " [1 2]\n",
      " [3 4]\n",
      " [3 4]]\n"
     ]
    }
   ],
   "source": [
    "import numpy\n",
    "N, M, P = map(int,input().split(' '))\n",
    "l_1 = []\n",
    "l_2 = []\n",
    "for i in range (0,N):\n",
    "    N_2 = list(input().split(' '))\n",
    "    l_1.append(N_2)\n",
    "for i in range (0,M):\n",
    "    M_2 = list(input().split(' '))\n",
    "    l_2.append(M_2)\n",
    "ans_n = numpy.array(l_1, int)\n",
    "ans_m = numpy.array(l_2, int)\n",
    "ans = numpy.concatenate((ans_n,ans_m), axis = 0)\n",
    "print(ans)\n"
   ]
  },
  {
   "cell_type": "markdown",
   "id": "72a8a685",
   "metadata": {},
   "source": [
    "## 64. Zeros and Ones\n"
   ]
  },
  {
   "cell_type": "code",
   "execution_count": 21,
   "id": "98ff6e3a",
   "metadata": {},
   "outputs": [
    {
     "name": "stdout",
     "output_type": "stream",
     "text": [
      "(3, 3, 3)\n",
      "[[[0 0 0]\n",
      "  [0 0 0]\n",
      "  [0 0 0]]\n",
      "\n",
      " [[0 0 0]\n",
      "  [0 0 0]\n",
      "  [0 0 0]]\n",
      "\n",
      " [[0 0 0]\n",
      "  [0 0 0]\n",
      "  [0 0 0]]]\n",
      "[[[1 1 1]\n",
      "  [1 1 1]\n",
      "  [1 1 1]]\n",
      "\n",
      " [[1 1 1]\n",
      "  [1 1 1]\n",
      "  [1 1 1]]\n",
      "\n",
      " [[1 1 1]\n",
      "  [1 1 1]\n",
      "  [1 1 1]]]\n"
     ]
    }
   ],
   "source": [
    "import numpy\n",
    "l = map(int,input().split(' '))\n",
    "l = tuple(l)\n",
    "l_1 = numpy.zeros(l,int)\n",
    "l_2 = numpy.ones(l,int)\n",
    "print(l_1)\n",
    "print(l_2)"
   ]
  },
  {
   "cell_type": "markdown",
   "id": "0a90ad97",
   "metadata": {},
   "source": [
    "## 65. Eye and Identity"
   ]
  },
  {
   "cell_type": "code",
   "execution_count": 27,
   "id": "eabc92c8",
   "metadata": {},
   "outputs": [
    {
     "name": "stdout",
     "output_type": "stream",
     "text": [
      "[[ 1.  0.  0.]\n",
      " [ 0.  1.  0.]\n",
      " [ 0.  0.  1.]]\n"
     ]
    }
   ],
   "source": [
    "import numpy\n",
    "numpy.set_printoptions(legacy='1.13')\n",
    "l = map(int,input().split(' '))\n",
    "print(numpy.eye(*l))"
   ]
  },
  {
   "cell_type": "markdown",
   "id": "ec4656ab",
   "metadata": {},
   "source": [
    "## 66. Array Mathematics"
   ]
  },
  {
   "cell_type": "code",
   "execution_count": 30,
   "id": "c805becf",
   "metadata": {},
   "outputs": [
    {
     "name": "stdout",
     "output_type": "stream",
     "text": [
      "[[ 6  8 10 12]]\n",
      "[[-4 -4 -4 -4]]\n",
      "[[ 5 12 21 32]]\n",
      "[[0 0 0 0]]\n",
      "[[1 2 3 4]]\n",
      "[[    1    64  2187 65536]]\n"
     ]
    }
   ],
   "source": [
    "import numpy\n",
    "N, M = map(int,input().split(' '))\n",
    "l_1 =[]\n",
    "l_2 = []\n",
    "for i in range (0,N):\n",
    "    ans_1 = list(map(int,input().split(' ')))\n",
    "    l_1.append(ans_1)\n",
    "for i in range (0,N):\n",
    "    ans_2 = list(map(int,input().split(' ')))\n",
    "    l_2.append(ans_2)\n",
    "\n",
    "nl1 = numpy.array(l_1)  \n",
    "nl2 = numpy.array(l_2)\n",
    "\n",
    "print(nl1 + nl2)\n",
    "print(nl1 - nl2)\n",
    "print(nl1 * nl2)\n",
    "print(nl1 // nl2)\n",
    "print(nl1 % nl2)\n",
    "print(nl1 ** nl2)"
   ]
  },
  {
   "cell_type": "markdown",
   "id": "4705b124",
   "metadata": {},
   "source": [
    "## 67. Floor, Ceil and Rint"
   ]
  },
  {
   "cell_type": "code",
   "execution_count": 31,
   "id": "bb874c31",
   "metadata": {},
   "outputs": [
    {
     "name": "stdout",
     "output_type": "stream",
     "text": [
      "[ 1.  2.  3.  4.  5.  6.  7.  8.  9.]\n",
      "[  2.   3.   4.   5.   6.   7.   8.   9.  10.]\n",
      "[  1.   2.   3.   4.   6.   7.   8.   9.  10.]\n"
     ]
    }
   ],
   "source": [
    "import numpy\n",
    "numpy.set_printoptions(legacy='1.13')\n",
    "\n",
    "A = list(map(float, input().split(' ')))\n",
    "ans = numpy.array(A,float)\n",
    "\n",
    "print(numpy.floor(ans))\n",
    "print(numpy.ceil(ans))\n",
    "print(numpy.rint(ans))"
   ]
  },
  {
   "cell_type": "markdown",
   "id": "d57b6870",
   "metadata": {},
   "source": [
    "## 68. Sum and Prod"
   ]
  },
  {
   "cell_type": "code",
   "execution_count": 38,
   "id": "1357e997",
   "metadata": {},
   "outputs": [
    {
     "name": "stdout",
     "output_type": "stream",
     "text": [
      "24\n"
     ]
    }
   ],
   "source": [
    "import numpy\n",
    "N, M = map(int,input().split(' '))\n",
    "l = []\n",
    "\n",
    "for i in range (0,N):\n",
    "    ans = list(map(int,input().split(' ')))\n",
    "    l.append(ans)\n",
    "n_ans = numpy.array(l)\n",
    "n_sum = numpy.sum(n_ans, axis = 0)\n",
    "n_prod = numpy.prod(n_sum, axis = 0)\n",
    "print(n_prod)"
   ]
  },
  {
   "cell_type": "markdown",
   "id": "09e3f989",
   "metadata": {},
   "source": [
    "## 69. Min and Max"
   ]
  },
  {
   "cell_type": "code",
   "execution_count": 41,
   "id": "0257aaf1",
   "metadata": {},
   "outputs": [
    {
     "name": "stdout",
     "output_type": "stream",
     "text": [
      "3\n"
     ]
    }
   ],
   "source": [
    "import numpy\n",
    "N, M = map(int,input().split(' '))\n",
    "l = []\n",
    "\n",
    "for i in range (0,N):\n",
    "    ans = list(map(int,input().split(' ')))\n",
    "    l.append(ans)\n",
    "n_ans = numpy.array(l)\n",
    "n_min = numpy.min(n_ans, axis = 1)\n",
    "n_max = numpy.max(n_min)\n",
    "print(n_max)"
   ]
  },
  {
   "cell_type": "markdown",
   "id": "7eda787e",
   "metadata": {},
   "source": [
    "## 70. Mean, Var, and Std"
   ]
  },
  {
   "cell_type": "code",
   "execution_count": 44,
   "id": "0a6094f5",
   "metadata": {},
   "outputs": [
    {
     "name": "stdout",
     "output_type": "stream",
     "text": [
      "[ 1.5  3.5]\n",
      "[ 1.  1.]\n",
      "1.11803398875\n"
     ]
    }
   ],
   "source": [
    "import numpy\n",
    "N, M = map(int,input().split(' '))\n",
    "l = []\n",
    "\n",
    "for i in range (0,N):\n",
    "    ans = list(map(int,input().split(' ')))\n",
    "    l.append(ans)\n",
    "n_ans = numpy.array(l)\n",
    "n_mean = numpy.mean(n_ans, axis = 1)\n",
    "n_var = numpy.var(n_ans, axis = 0)\n",
    "n_std = round(numpy.std(n_ans),11)\n",
    "print(n_mean)\n",
    "print(n_var)\n",
    "print(n_std)"
   ]
  },
  {
   "cell_type": "markdown",
   "id": "247ecf4f",
   "metadata": {},
   "source": [
    "## 71. Dot and Cross"
   ]
  },
  {
   "cell_type": "code",
   "execution_count": 48,
   "id": "f54f5024",
   "metadata": {},
   "outputs": [
    {
     "name": "stdout",
     "output_type": "stream",
     "text": [
      "[[19 22]\n",
      " [43 50]]\n"
     ]
    }
   ],
   "source": [
    "import numpy\n",
    "\n",
    "N = int(input())\n",
    "l_a = []\n",
    "l_b = []\n",
    "\n",
    "for i in range (0,N):\n",
    "    A = list(map(int,input().split(' ')))\n",
    "    l_a.append(A)\n",
    "\n",
    "for i in range (0,N):\n",
    "    B = list(map(int,input().split(' ')))\n",
    "    l_b.append(B)\n",
    "\n",
    "ans_a = numpy.array(l_a)\n",
    "ans_b = numpy.array(l_b)\n",
    "\n",
    "print(numpy.dot(ans_a,ans_b))\n"
   ]
  },
  {
   "cell_type": "markdown",
   "id": "1181d1c3",
   "metadata": {},
   "source": [
    "## 72. Inner and Outer"
   ]
  },
  {
   "cell_type": "code",
   "execution_count": 50,
   "id": "a2c28d3c",
   "metadata": {},
   "outputs": [
    {
     "name": "stdout",
     "output_type": "stream",
     "text": [
      "3\n",
      "[[0 0]\n",
      " [2 3]]\n"
     ]
    }
   ],
   "source": [
    "import numpy\n",
    "\n",
    "A = list(map(int,input().split(' ')))\n",
    "B = list(map(int,input().split(' ')))\n",
    "\n",
    "ans_a = numpy.array(A)\n",
    "ans_b = numpy.array(B)\n",
    "\n",
    "print(numpy.inner(ans_a, ans_b))\n",
    "print(numpy.outer(ans_a, ans_b))"
   ]
  },
  {
   "cell_type": "markdown",
   "id": "777c1dda",
   "metadata": {},
   "source": [
    "## 73. Polynomials"
   ]
  },
  {
   "cell_type": "code",
   "execution_count": 51,
   "id": "465f829f",
   "metadata": {},
   "outputs": [
    {
     "name": "stdout",
     "output_type": "stream",
     "text": [
      "3.0\n"
     ]
    }
   ],
   "source": [
    "import numpy\n",
    "\n",
    "P = list(map(float,input().split(' ')))\n",
    "x = int(input())\n",
    "\n",
    "n_p = numpy.array(P)\n",
    "\n",
    "print(numpy.polyval(n_p,x))\n"
   ]
  },
  {
   "cell_type": "markdown",
   "id": "03a7f9c9",
   "metadata": {},
   "source": [
    "## 74. Linear Algebra"
   ]
  },
  {
   "cell_type": "code",
   "execution_count": 66,
   "id": "94f673e9",
   "metadata": {},
   "outputs": [
    {
     "name": "stdout",
     "output_type": "stream",
     "text": [
      "6.0\n"
     ]
    }
   ],
   "source": [
    "import numpy \n",
    "\n",
    "N = int(input())\n",
    "l_a = []\n",
    "\n",
    "for i in range(0,N):\n",
    "    A = list(map(float,input().split(' ')))\n",
    "    l_a.append(A)\n",
    "\n",
    "ans_a = numpy.array(l_a,float)\n",
    "print(round(numpy.linalg.det(ans_a),2))"
   ]
  },
  {
   "cell_type": "markdown",
   "id": "2fc71306",
   "metadata": {},
   "source": [
    "## 75. Detect Floating Point Number"
   ]
  },
  {
   "cell_type": "code",
   "execution_count": 2,
   "id": "5ccb8296",
   "metadata": {},
   "outputs": [
    {
     "name": "stdout",
     "output_type": "stream",
     "text": [
      "False\n",
      "True\n",
      "True\n",
      "False\n"
     ]
    }
   ],
   "source": [
    "import re\n",
    "\n",
    "pattern = '^(-|\\+)?\\d*\\.\\d+$'\n",
    "\n",
    "prog = re.compile(pattern)\n",
    "\n",
    "test = lambda n: bool(prog.match(n))\n",
    "\n",
    "t = int(input().strip())\n",
    "\n",
    "for x in range(t):\n",
    "    n = input().strip()\n",
    "    print(test(n))\n"
   ]
  },
  {
   "cell_type": "markdown",
   "id": "e991deae",
   "metadata": {},
   "source": [
    "## 76. Re.split()"
   ]
  },
  {
   "cell_type": "code",
   "execution_count": 3,
   "id": "d243bce8",
   "metadata": {},
   "outputs": [
    {
     "name": "stdout",
     "output_type": "stream",
     "text": [
      "100\n",
      "000\n",
      "000\n",
      "000\n"
     ]
    }
   ],
   "source": [
    "regex_pattern = r\"[\\.,]\"\t# Do not delete 'r'.\n",
    "\n",
    "import re\n",
    "print(\"\\n\".join(re.split(regex_pattern, input())))"
   ]
  },
  {
   "cell_type": "markdown",
   "id": "5f46cecf",
   "metadata": {},
   "source": [
    "## 77. Group(), Groups() & Groupdict()"
   ]
  },
  {
   "cell_type": "code",
   "execution_count": 4,
   "id": "e381c931",
   "metadata": {},
   "outputs": [
    {
     "name": "stdout",
     "output_type": "stream",
     "text": [
      "1\n"
     ]
    }
   ],
   "source": [
    "# Enter your code here. Read input from STDIN. Print output to STDOUT\n",
    "\n",
    "import re\n",
    "\n",
    "pattern = '.*?(?P<g1>[0-9a-zA-Z])(?P=g1).*'\n",
    "\n",
    "prog = re.compile(pattern)\n",
    "\n",
    "def test(n):\n",
    "    gs = prog.match(n)\n",
    "    return '-1' if not gs else gs.group('g1')\n",
    "\n",
    "S = input().strip()\n",
    "\n",
    "print(test(S))"
   ]
  },
  {
   "cell_type": "markdown",
   "id": "c979c2aa",
   "metadata": {},
   "source": [
    "## 78. Re.findall() & Re.finditer()"
   ]
  },
  {
   "cell_type": "code",
   "execution_count": 8,
   "id": "f1f4148c",
   "metadata": {},
   "outputs": [
    {
     "name": "stdout",
     "output_type": "stream",
     "text": [
      "AA\n"
     ]
    }
   ],
   "source": [
    "# Enter your code here. Read input from STDIN. Print output to STDOUT\n",
    "\n",
    "import re\n",
    "\n",
    "# Vowels are defined as: AEIOU and aeiou. \n",
    "vowels = '[AEIOUaeiou]'\n",
    "# Consonants are defined as: QWRTYPSDFGHJKLZXCVBNM and qwrtypsdfghjklzxcvbnm.\n",
    "consonants = '[QWRTYPSDFGHJKLZXCVBNMqwrtypsdfghjklzxcvbnm]'\n",
    "\n",
    "pattern = '(?<={consonants}){vowels}{{2,}}(?={consonants})' \\\n",
    "    .format(consonants=consonants, vowels=vowels)\n",
    "\n",
    "prog = re.compile(pattern)\n",
    "\n",
    "def test(n):\n",
    "    rs = prog.findall(n)\n",
    "    \n",
    "    if not rs: \n",
    "        print('-1')\n",
    "    else:\n",
    "        for f in prog.findall(n):\n",
    "            print(f)\n",
    "\n",
    "S = input().strip()\n",
    "test(S)"
   ]
  },
  {
   "cell_type": "markdown",
   "id": "8ad4ca79",
   "metadata": {},
   "source": [
    "## 79. Re.start() & Re.end()"
   ]
  },
  {
   "cell_type": "code",
   "execution_count": 11,
   "id": "62dcd829",
   "metadata": {},
   "outputs": [
    {
     "name": "stdout",
     "output_type": "stream",
     "text": [
      "a(?=a)\n",
      "(0, 1)\n",
      "(1, 2)\n",
      "(4, 5)\n"
     ]
    }
   ],
   "source": [
    "import re\n",
    "\n",
    "def test(s, k):\n",
    "    \n",
    "    pattern = '{head}(?={tail})' \\\n",
    "        .format(head=k[0], tail=k[1:])   \n",
    "    \n",
    "    ms = list(re.finditer(pattern, s))\n",
    "    \n",
    "    if not ms:\n",
    "        print('(-1, -1)')\n",
    "    else:\n",
    "        for m in ms:\n",
    "            print(f'({m.start()}, {m.start() + len(k) - 1})')\n",
    "\n",
    "\n",
    "s = input().strip()\n",
    "k = input().strip()\n",
    "test(s, k)"
   ]
  },
  {
   "cell_type": "markdown",
   "id": "9561f387",
   "metadata": {},
   "source": [
    "## 80. Regex Substitution"
   ]
  },
  {
   "cell_type": "code",
   "execution_count": 4,
   "id": "814d94d6",
   "metadata": {},
   "outputs": [
    {
     "name": "stdout",
     "output_type": "stream",
     "text": [
      "elif a*b > 10 or a/b < 1:\n"
     ]
    }
   ],
   "source": [
    "# Enter your code here. Read input from STDIN. Print output to STDOUT\n",
    "\n",
    "import re\n",
    "\n",
    "conversion = lambda m: ' and' if m.group(0) == ' &&' else ' or'\n",
    "\n",
    "prog = re.compile('(( \\|\\|)|( &&))(?= )')\n",
    "\n",
    "sub = lambda l: prog.sub(conversion, l)\n",
    "\n",
    "t = int(input().strip())\n",
    "\n",
    "for x in range(t):\n",
    "    line = input()\n",
    "    print(sub(line))"
   ]
  },
  {
   "cell_type": "markdown",
   "id": "bbb7ab34",
   "metadata": {},
   "source": [
    "## 81. Validating Roman Numerals"
   ]
  },
  {
   "cell_type": "code",
   "execution_count": 10,
   "id": "3a7b9b7f",
   "metadata": {},
   "outputs": [
    {
     "name": "stdout",
     "output_type": "stream",
     "text": [
      "False\n"
     ]
    }
   ],
   "source": [
    "regex_pattern = r\"^M{0,3}(CM|CD|D?C{0,3})?(XC|XL|L?X{0,3})?(IX|IV|V?I{0,3})?$\"\t# Do not delete 'r'.\n",
    "\n",
    "import re\n",
    "\n",
    "print(str(bool(re.match(regex_pattern, input()))))\n",
    "\n",
    "#Found information on internet on regex pattern to validate roman numbers. Source: https://dev.to/alexdjulin/a-python-regex-to-validate-roman-numerals-2g99\n"
   ]
  },
  {
   "cell_type": "markdown",
   "id": "86392389",
   "metadata": {},
   "source": [
    "## 82. Validating phone numbers"
   ]
  },
  {
   "cell_type": "code",
   "execution_count": 6,
   "id": "93580671",
   "metadata": {},
   "outputs": [
    {
     "name": "stdout",
     "output_type": "stream",
     "text": [
      "YES\n",
      "NO\n",
      "NO\n"
     ]
    }
   ],
   "source": [
    "import re\n",
    "\n",
    "prog = re.compile('^[789]\\d{9}$')\n",
    "\n",
    "valid_phone = lambda line: bool(prog.match(line))\n",
    "\n",
    "n = int(input().strip())\n",
    "lines = [input().strip() for x in range(n)]\n",
    "\n",
    "for line in lines:\n",
    "    print('YES' if valid_phone(line) else 'NO')"
   ]
  },
  {
   "cell_type": "markdown",
   "id": "b047bdce",
   "metadata": {},
   "source": [
    "## 83. Validating and Parsing Email Addresses"
   ]
  },
  {
   "cell_type": "code",
   "execution_count": 9,
   "id": "1f924b94",
   "metadata": {},
   "outputs": [
    {
     "name": "stdout",
     "output_type": "stream",
     "text": [
      "DEXTER <dexter@hotmail.com>\n"
     ]
    }
   ],
   "source": [
    "import re\n",
    "import email.utils\n",
    "\n",
    "english_alphabetical = '[AaBbCcDdEeFfGgHhIiJjKkLlMmNnOoPpQqRrSsTtUuVvWwXxYyZz]'\n",
    "\n",
    "username_chars = '{english_alphabetical}[\\w\\-_\\.]+' \\\n",
    "    .format(english_alphabetical=english_alphabetical)\n",
    "\n",
    "pattern = '^{username_chars}@{domain}+\\.{extension}{{1,3}}$' \\\n",
    "    .format(\n",
    "        username_chars=username_chars,\n",
    "        domain=english_alphabetical,\n",
    "        extension=english_alphabetical,)\n",
    "\n",
    "prog = re.compile(pattern)\n",
    "\n",
    "def valid_email(line):\n",
    "    user, mail = email.utils.parseaddr(line)\n",
    "    return bool(prog.match(mail))\n",
    "\n",
    "n = int(input().strip())\n",
    "lines = [input().strip() for x in range(n)]\n",
    "\n",
    "for valid in filter(valid_email, lines):\n",
    "    print(valid)\n"
   ]
  },
  {
   "cell_type": "markdown",
   "id": "53ee8178",
   "metadata": {},
   "source": [
    "## 84. Hex Color Code"
   ]
  },
  {
   "cell_type": "code",
   "execution_count": 20,
   "metadata": {},
   "outputs": [
    {
     "name": "stdout",
     "output_type": "stream",
     "text": [
      "#f9f9f9\n",
      "#fff\n"
     ]
    }
   ],
   "source": [
    "import re\n",
    "\n",
    "hex_value_re = re.compile('#(?:[\\dA-Fa-f]{3}){1,2}')\n",
    "\n",
    "def get_value_if_present(line): \n",
    "    m = re.match('^[^:]+:(?P<value>.*);.*$', line)\n",
    "    return m.group('value') if m else None\n",
    "\n",
    "hex_colors = lambda value: re \\\n",
    "    .findall('#(?:[\\dA-Fa-f]{3}){1,2}', value)\n",
    "\n",
    "def hex_colors_from_line(line):\n",
    "    value = get_value_if_present(line)\n",
    "    return [] if not value else hex_colors(value)\n",
    "\n",
    "n = int(input().strip())\n",
    "lines = [input().strip() for x in range(n)]\n",
    "\n",
    "for line in lines:\n",
    "    for hex_color in hex_colors_from_line(line):\n",
    "        print(hex_color)"
   ]
  },
  {
   "cell_type": "markdown",
   "id": "41072f2a",
   "metadata": {},
   "source": [
    "## 85. HTML Parser - Part 1"
   ]
  },
  {
   "cell_type": "code",
   "execution_count": 24,
   "id": "0174b122",
   "metadata": {},
   "outputs": [
    {
     "name": "stdout",
     "output_type": "stream",
     "text": [
      "Start : html\n",
      "Start : head\n",
      "Start : title\n",
      "End   : title\n",
      "End   : head\n"
     ]
    }
   ],
   "source": [
    "from html.parser import HTMLParser\n",
    "\n",
    "# create a subclass and override the handler methods\n",
    "class MyHTMLParser(HTMLParser):\n",
    "    \n",
    "    def __print_attrs(self, attrs):\n",
    "        for name, value in attrs:\n",
    "            print(f'-> {name} > {value}')\n",
    "    \n",
    "    def handle_starttag(self, tag, attrs):\n",
    "        print(f'Start : {tag}')\n",
    "        self.__print_attrs(attrs)\n",
    "        \n",
    "    def handle_endtag(self, tag):\n",
    "        print(f'End   : {tag}')\n",
    "        \n",
    "    def handle_startendtag(self, tag, attrs):\n",
    "        print(f'Empty : {tag}')\n",
    "        self.__print_attrs(attrs)\n",
    "        \n",
    "\n",
    "n = int(input().strip())\n",
    "lines = [input().strip() for x in range(n)]\n",
    "html = ''.join(lines)\n",
    "\n",
    "  \n",
    "parser = MyHTMLParser()\n",
    "parser.feed(html)\n",
    "parser.close() "
   ]
  },
  {
   "cell_type": "markdown",
   "id": "f65a1585",
   "metadata": {},
   "source": [
    "## 86. HTML Parser - Part 2"
   ]
  },
  {
   "cell_type": "code",
   "execution_count": 26,
   "id": "096091a8",
   "metadata": {},
   "outputs": [
    {
     "name": "stdout",
     "output_type": "stream",
     "text": [
      "<!--[if IE 9]>IE9-specific content\n",
      "<![endif]-->\n",
      "<div> Welcome to HackerRank</div>\n",
      "<!--[if IE 9]>IE9-specific content<![endif]-->\n",
      "\n",
      ">>> Multi-line Comment\n",
      "[if IE 9]>IE9-specific content\n",
      "<![endif]\n",
      ">>> Data\n",
      " Welcome to HackerRank\n",
      ">>> Single-line Comment\n",
      "[if IE 9]>IE9-specific content<![endif]\n"
     ]
    }
   ],
   "source": [
    "from html.parser import HTMLParser\n",
    "\n",
    "# create a subclass and override the handler methods\n",
    "class MyHTMLParser(HTMLParser):\n",
    "    \n",
    "    def handle_comment(self, data):\n",
    "        print('>>> Single-line Comment' if '\\n' not in data else '>>> Multi-line Comment')\n",
    "        print(data)\n",
    "    \n",
    "    def handle_data(self, data):\n",
    "        \n",
    "        if data == '\\n':\n",
    "            return\n",
    "        \n",
    "        print('>>> Data')\n",
    "        print(data)\n",
    "        \n",
    "html = \"\"       \n",
    "for i in range(int(input())):\n",
    "    html += input().rstrip()\n",
    "    html += '\\n'\n",
    "\n",
    "parser = MyHTMLParser()\n",
    "parser.feed(html)\n",
    "parser.close() "
   ]
  },
  {
   "cell_type": "markdown",
   "id": "e8ce5f54",
   "metadata": {},
   "source": [
    "## 87. Detect HTML Tags, Attributes and Attribute Values"
   ]
  },
  {
   "cell_type": "code",
   "execution_count": 27,
   "id": "42a1b09e",
   "metadata": {},
   "outputs": [
    {
     "name": "stdout",
     "output_type": "stream",
     "text": [
      "<head><title>HTML</title></head><object type=\"application/x-flash\"data=\"your-file.swf\"width=\"0\" height=\"0\"><!-- <param name=\"movie\" value=\"your-file.swf\" /> --><param name=\"quality\" value=\"high\"/></object>\n",
      "head\n",
      "title\n",
      "object\n",
      "-> type > application/x-flash\n",
      "-> data > your-file.swf\n",
      "-> width > 0\n",
      "-> height > 0\n",
      "param\n",
      "-> name > quality\n",
      "-> value > high\n"
     ]
    }
   ],
   "source": [
    "from html.parser import HTMLParser\n",
    "\n",
    "# create a subclass and override the handler methods\n",
    "class MyHTMLParser(HTMLParser):\n",
    "    \n",
    "    def handle_starttag(self, tag, attrs):\n",
    "        print(tag)\n",
    "        \n",
    "        for name, value in attrs:\n",
    "            print(f'-> {name} > {value}')\n",
    "\n",
    "        \n",
    "n = int(input().strip())\n",
    "lines = [input().strip() for x in range(n)]\n",
    "html = ''.join(lines)\n",
    "#print(html)\n",
    "   \n",
    "parser = MyHTMLParser()\n",
    "parser.feed(html)\n",
    "parser.close()"
   ]
  },
  {
   "cell_type": "markdown",
   "id": "2a53c9f7",
   "metadata": {},
   "source": [
    "## 88. Validating UID"
   ]
  },
  {
   "cell_type": "code",
   "execution_count": 28,
   "id": "53db4394",
   "metadata": {},
   "outputs": [
    {
     "name": "stdout",
     "output_type": "stream",
     "text": [
      "Invalid\n",
      "Valid\n"
     ]
    }
   ],
   "source": [
    "import re\n",
    "\n",
    "def valid_uid(uid):\n",
    "    \n",
    "    # It should only contain alphanumeric characters (A - z, A - Z & 0 - 9).\n",
    "    # There must be exactly 10 characters in a valid UID.\n",
    "    if not re.match('^[a-zA-Z0-9]{10}$', uid):\n",
    "        return False\n",
    "\n",
    "    # It must contain at least 2 uppercase English alphabet characters.\n",
    "    if len(re.findall('[A-Z]', uid)) < 2:\n",
    "        return False\n",
    "    \n",
    "    # It must contain at least 3 digits (0 - 9).\n",
    "    if len(re.findall('(\\d)', uid)) < 3:\n",
    "        return False\n",
    "    \n",
    "    # No character should repeat.\n",
    "    if re.match('^.*(?P<char>.).*?(?P=char).*$', uid):\n",
    "        return False\n",
    "\n",
    "    # Else\n",
    "    return True\n",
    "\n",
    "n = int(input().strip())\n",
    "lines = [input().strip() for x in range(n)]\n",
    "\n",
    "for line in lines:\n",
    "    print('Valid' if valid_uid(line) else 'Invalid')"
   ]
  },
  {
   "cell_type": "markdown",
   "id": "c22d7afa",
   "metadata": {},
   "source": [
    "## 89. Validating Credit Card Numbers"
   ]
  },
  {
   "cell_type": "code",
   "execution_count": 31,
   "id": "661301dc",
   "metadata": {},
   "outputs": [
    {
     "name": "stdout",
     "output_type": "stream",
     "text": [
      "Valid\n"
     ]
    }
   ],
   "source": [
    "import re\n",
    "\n",
    "def valid_cc_number(uid):\n",
    "    \n",
    "    # It must start with a 4, 5 or 6. \n",
    "    # It must contain exactly 16 digits. \n",
    "    # It must only consist of digits (0-9). \n",
    "    # It may have digits in groups of 4, separated by one hyphen \"-\". \n",
    "    # It must NOT use any other separator like ' ' , '_', etc. \n",
    "    if not re.match('^[4-6]\\d{3}((\\d{12})|(-\\d{4}-\\d{4}-\\d{4}))$', uid):\n",
    "        return False\n",
    "    \n",
    "    # It must NOT have 4 or more consecutive repeated digits.\n",
    "    if re.match('^.*(?P<char>.)-?(?P=char)-?(?P=char)-?(?P=char).*$', uid):\n",
    "        return False\n",
    "    \n",
    "    # Else\n",
    "    return True\n",
    "\n",
    "n = int(input().strip())\n",
    "lines = [input().strip() for x in range(n)]\n",
    "\n",
    "for line in lines:\n",
    "    print('Valid' if valid_cc_number(line) else 'Invalid')"
   ]
  },
  {
   "cell_type": "markdown",
   "id": "2989513e",
   "metadata": {},
   "source": [
    "## 90. Validating Postal Codes"
   ]
  },
  {
   "cell_type": "code",
   "execution_count": 41,
   "id": "dec69531",
   "metadata": {},
   "outputs": [
    {
     "name": "stdout",
     "output_type": "stream",
     "text": [
      "False\n"
     ]
    }
   ],
   "source": [
    "regex_integer_in_range = r\"^[1-9]\\d{5}$\"\t# Do not delete 'r'.\n",
    "regex_alternating_repetitive_digit_pair = r\"(.)(?=.\\1)\"\t# Do not delete 'r'.\n",
    "\n",
    "\n",
    "import re\n",
    "P = input()\n",
    "\n",
    "print (bool(re.match(regex_integer_in_range, P)) \n",
    "and len(re.findall(regex_alternating_repetitive_digit_pair, P)) < 2)"
   ]
  },
  {
   "cell_type": "markdown",
   "id": "39cb0d26",
   "metadata": {},
   "source": [
    "## 91. Matrix Script"
   ]
  },
  {
   "cell_type": "code",
   "execution_count": 52,
   "id": "cd004851",
   "metadata": {},
   "outputs": [
    {
     "name": "stdout",
     "output_type": "stream",
     "text": [
      "This is Matrix#  %!\n"
     ]
    }
   ],
   "source": [
    "import math\n",
    "import os\n",
    "import random\n",
    "import re\n",
    "import sys\n",
    "\n",
    "first_multiple_input = input().rstrip().split()\n",
    "\n",
    "n = int(first_multiple_input[0]) #rows\n",
    "\n",
    "m = int(first_multiple_input[1]) #columns\n",
    "\n",
    "matrix = []\n",
    "\n",
    "for _ in range(n):\n",
    "    matrix_item = input()\n",
    "    matrix.append(matrix_item)\n",
    "\n",
    "decoded_str = \"\"\n",
    "\n",
    "\n",
    "for j in range(m):\n",
    "    for i in range(n):\n",
    "        decoded_str += matrix[i][j]\n",
    "\n",
    "final_decoded_str = re.sub('(\\w)([^\\w]+)(\\w)', '\\g<1> \\g<3>', decoded_str)\n",
    "print(final_decoded_str)\n"
   ]
  }
 ],
 "metadata": {
  "kernelspec": {
   "display_name": "Python 3.10.6 64-bit",
   "language": "python",
   "name": "python3"
  },
  "language_info": {
   "codemirror_mode": {
    "name": "ipython",
    "version": 3
   },
   "file_extension": ".py",
   "mimetype": "text/x-python",
   "name": "python",
   "nbconvert_exporter": "python",
   "pygments_lexer": "ipython3",
   "version": "3.10.6"
  },
  "vscode": {
   "interpreter": {
    "hash": "b0fa6594d8f4cbf19f97940f81e996739fb7646882a419484c72d19e05852a7e"
   }
  }
 },
 "nbformat": 4,
 "nbformat_minor": 5
}
